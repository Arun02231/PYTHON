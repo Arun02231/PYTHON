{
 "cells": [
  {
   "cell_type": "code",
   "execution_count": 288,
   "metadata": {},
   "outputs": [],
   "source": [
    "class Gym:\n",
    "    def __init__(self):\n",
    "        self.details_user={}\n",
    "        self.regimen_list_18={}\n",
    "        \n",
    "        self.regimen_list_25={}\n",
    "        self.regimen_list_30={}\n",
    "        self.regimen4={}\n",
    "        self.user=input('Please choose who you are USER/MEMBER:')\n",
    "        while self.user.casefold() not in ['superuser','super user','member']:\n",
    "            print('***** Invalid option! please try again: *****')\n",
    "            self.user=input('Please choose who you are USER/MEMBER:')\n",
    "            continue\n",
    "        self.user=self.user.casefold()\n",
    "        if self.user.casefold=='superuser':\n",
    "            self.user='super user'\n",
    "        if self.user=='super user':\n",
    "            self.super_user()\n",
    "        if self.user=='member':\n",
    "            self.member()\n",
    "        \n",
    "    \n",
    "    def member(self):\n",
    "        print('***** please choose the following options *****')\n",
    "        print('1. My Regimen')\n",
    "        print('2. My profile')\n",
    "        print('0. Exit')\n",
    "        self.choice=input('please select the option from above:')\n",
    "        while self.choice.isdigit==False or self.choice>'2':\n",
    "            print('***** Invalid option *****')\n",
    "            self.choice=input('please select the option from above:')\n",
    "            continue\n",
    "        self.choice=int(self.choice)\n",
    "        if self.choice==0:\n",
    "            self.super_user()\n",
    "        elif self.choice==1:\n",
    "            self.my_regimen()\n",
    "        \n",
    "        \n",
    "        \n",
    "    def super_user(self):\n",
    "        print('****** Please choose the following options ***************')\n",
    "        print('1. Create a member')\n",
    "        print('2. View member')\n",
    "        print('3. Delete member')\n",
    "        print('4. Upadte member')\n",
    "        print('5. Create Regimen')\n",
    "        print('6. View Regimen')\n",
    "        print('7. Delete Regimen')\n",
    "        print('8. Update Regimen')\n",
    "        print('0. Exit')\n",
    "        self.choice=input('please select the option from above:')\n",
    "        while self.choice.isdigit==False or self.choice>'8':\n",
    "            print('***** Invalid option *****')\n",
    "            self.choice=input('please select the option from above:')\n",
    "            continue\n",
    "        self.choice=int(self.choice)\n",
    "        if self.choice==1:\n",
    "            self.create_member()\n",
    "        elif self.choice==2:\n",
    "            self.view_member()\n",
    "        elif self.choice==3:\n",
    "            self.delete_member()\n",
    "        elif self.choice==4:\n",
    "            self.update_member()\n",
    "        elif self.choice==5:\n",
    "            self.create_regimen()\n",
    "        elif self.choice==6:\n",
    "            self.view_regimen()\n",
    "        elif self.choice==7:\n",
    "            self.delete_regimen()\n",
    "        elif self.choice==8:\n",
    "            self.update_regimen()\n",
    "        elif self.choice==0:\n",
    "            self.member()\n",
    "            \n",
    "    \n",
    "    \n",
    "    def create_member(self):\n",
    "        self.name=input('Please enter your name:')\n",
    "        while self.name.isdigit()==True:\n",
    "            print('**** Invalid option *****')\n",
    "            self.name=input('Please enter your name:')\n",
    "            continue\n",
    "        self.age=input('Please enter your age:')\n",
    "        while self.age.isdigit()==False:\n",
    "            print('**** Invalid option *****')\n",
    "            self.age=input('Please enter your age:')\n",
    "            continue\n",
    "        self.gender=input('Please select your gender MALE/FEMALE/OTHER:')\n",
    "        while self.gender.isalpha()==False or self.gender.casefold() not in ['male','female','other']:\n",
    "            print('**** Invalid option *****')\n",
    "            self.gender=input('Please select your gender MALE/FEMALE/OTHER:')\n",
    "            continue\n",
    "        self.number=input('Please enter your phone number:')\n",
    "        while self.number.isdigit()==False:\n",
    "            print('***** Invalid option *****')\n",
    "            self.number=input('Please enter your phone number:')\n",
    "            continue\n",
    "        self.mail=input('please enter yor email:')\n",
    "        while self.mail == ' ':\n",
    "            print('Please enter the mail')\n",
    "            self.mail=input('please enter yor email:')\n",
    "            continue\n",
    "        self.bmi=input('please enter the BMI(BODY MASS INDEX):')\n",
    "        while self.bmi.isalpha()==True:\n",
    "            print('**** Invalid option *****')\n",
    "            self.bmi=input('please enter the BMI(BODY MASS INDEX):')\n",
    "            continue\n",
    "        self.duration=input('Please enter the duration in months:')\n",
    "        while self.duration.isdigit()==False:\n",
    "            print('***** Invalid option *****')\n",
    "            self.duration=input('Please enter the duration in months:')\n",
    "            continue\n",
    "        self.option=input('please confirm to add the mmber y/n:')\n",
    "        while self.option.casefold() not in ['y','n','yes','no']:\n",
    "            print('***** Invalid option *****')\n",
    "            self.option=input('please confirm to add the mmber y/n:')\n",
    "            continue\n",
    "        if self.option in ['y','n','yes','no']:\n",
    "            self.details_user[self.number]=[self.name,int(self.age),self.gender,self.number,self.mail,float(self.bmi),float(self.duration)]\n",
    "        else:\n",
    "            pass\n",
    "        self.super_user()\n",
    "    def delete_member(self):\n",
    "        self.contact=input('please enter the phone number/contatct that you want to remove:')\n",
    "        while self.contact.isdigit()==False or self.contact not in self.details_user:\n",
    "            print('***** Invalid option *****')\n",
    "            self.contact=input('please enter the phone number/contatct that you want to remove:')\n",
    "            if self.contact=='0':\n",
    "                self.super_user()\n",
    "            else:\n",
    "                continue\n",
    "        self.details_user.pop(self.contact)\n",
    "        self.super_user()\n",
    "    def view_member(self):\n",
    "        self.contact=input('please enter the phone number/contatct that you want to see:')\n",
    "        while self.contact.isdigit()==False or self.contact not in self.details_user:\n",
    "            print('***** Invalid option *****')\n",
    "            self.contact=input('please enter the phone number/contatct that you want to see:')\n",
    "            if self.contact=='0':\n",
    "                self.super_user()\n",
    "            else:\n",
    "                continue\n",
    "#         self.contact=int(self.contact)\n",
    "        print('Name:',self.details_user[self.contact][0])\n",
    "        print('Age:',self.details_user[self.contact][1])\n",
    "        print('Gender:',self.details_user[self.contact][2])\n",
    "        print('Number:',self.details_user[self.contact][3])\n",
    "        print('E-Mail:',self.details_user[self.contact][4])\n",
    "        print('BMI:',self.details_user[self.contact][5])\n",
    "        print('Duration:',self.details_user[self.contact][6])\n",
    "        self.super_user()\n",
    "    def update_member(self):\n",
    "        print('**** This section for extending and revoking the memberdhip ****')\n",
    "        self.contact=input('please enter the phone number/contatct that you want to see:')\n",
    "        while self.contact.isdigit()==False or self.contact not in self.details_user:\n",
    "            print('***** Invalid option *****')\n",
    "            self.contact=input('please enter the phone number/contatct that you want to see:')\n",
    "            continue\n",
    "        print('Your membership is:',self.details_user[self.contact][6],'months')\n",
    "        \n",
    "        self.um=input('Please enter the E for extending or R for the revoking:')\n",
    "        while self.um.isalpha()==False or self.um.casefold() not in ['e','r','extend','revoke']:\n",
    "            print('**** Invalid option')\n",
    "            self.um=input('Please enter the E for extending or R for the revoking:')\n",
    "            continue\n",
    "        self.um=self.um\n",
    "        if self.um.casefold() in ['e','extend']:\n",
    "            self.du=input('please enter no of months do you want to extend:')\n",
    "            while self.du.isdigit()==False:\n",
    "                print('**** Invalid option ****')\n",
    "                self.du=input('please enter no of months do you want to extend:')\n",
    "                continue\n",
    "            self.details_user[self.contact][6]=self.details_user[self.contact][6]+float(self.du)\n",
    "            print('Your duration has ectended to',self.du,'months')\n",
    "        elif self.um.casefold() in ['r','revoke']:\n",
    "            self.details_user.pop(self.contact)\n",
    "            print('**** Yor mebership has been terminated ****')\n",
    "        \n",
    "        self.super_user()\n",
    "    def create_regimen(self):\n",
    "        self.regimen1={}\n",
    "        self.mon=input('Please enter the work regimen for Monday!:')\n",
    "        while self.mon.isalpha == False or self.mon not in ['legs','chest','biceps','rest','back','cardio','cardio/abs']:\n",
    "            print('***** Invalid option *****')\n",
    "            self.mon=input('Please enter the work regimen for Monday!:')\n",
    "            continue\n",
    "        self.regimen1['Mon']=self.mon\n",
    "        self.tue=input('Please enter the work regimen for Tuesday!:')\n",
    "        while self.tue.isalpha == False or self.tue not in ['legs','chest','biceps','rest','back','cardio','cardio/abs']:\n",
    "            print('***** Invalid option *****')\n",
    "            self.tue=input('Please enter the work regimen for Tuesday!:')\n",
    "            continue\n",
    "        self.regimen1['Tue']=self.tue\n",
    "        self.wed=input('Please enter the work regimen for wednesday!:')\n",
    "        while self.wed.isalpha == False or self.wed not in ['legs','chest','biceps','rest','back','cardio','cardio/abs']:\n",
    "            print('***** Invalid option *****')\n",
    "            self.wed=input('Please enter the work regimen for wednesday!:')\n",
    "            continue\n",
    "        self.regimen1['Wed']=self.wed\n",
    "        self.thur=input('Please enter the work regimen for Thursday!:')\n",
    "        while self.thur.isalpha == False or self.thur not in ['legs','chest','biceps','rest','back','cardio','cardio/abs']:\n",
    "            print('***** Invalid option *****')\n",
    "            self.thur=input('Please enter the work regimen for Monday!:')\n",
    "            continue\n",
    "        self.regimen1['Thur']=self.thur\n",
    "        self.fri=input('Please enter the work regimen for Friday!:')\n",
    "        while self.fri.isalpha == False or self.fri not in ['legs','chest','biceps','rest','back','cardio','cardio/abs']:\n",
    "            print('***** Invalid option *****')\n",
    "            self.fri=input('Please enter the work regimen for Friday!:')\n",
    "            continue\n",
    "        self.regimen1['Fri']=self.fri\n",
    "        self.sat=input('Please enter the work regimen for Saturday!:')\n",
    "        while self.sat.isalpha == False or self.sat not in ['legs','chest','biceps','rest','back','cardio','cardio/abs']:\n",
    "            print('***** Invalid option *****')\n",
    "            self.sat=input('Please enter the work regimen for Saturday!:')\n",
    "            continue\n",
    "        self.regimen1['Sat']=self.sat\n",
    "        self.sun=input('Please enter the work regimen for Sunnday!:')\n",
    "        while self.sun.isalpha == False or self.sun not in ['legs','chest','biceps','rest','back','cardio','cardio/abs']:\n",
    "            print('***** Invalid option *****')\n",
    "            self.sun=input('Please enter the work regimen for Monday!:')\n",
    "            continue\n",
    "        self.regimen1['Sun']=self.sun\n",
    "        if float(self.bmi)<18.5:\n",
    "            self.regimen_list_18[self.number]=self.regimen1\n",
    "        elif float(self.bmi)<25:\n",
    "            self.regimen_list_25[self.number]=self.regimen1\n",
    "        elif float(self.bmi)<30:\n",
    "            self.regimen_list_30[self.number]=self.regimen1\n",
    "        elif float(self.bmi)<30:\n",
    "            self.regimen4[self.number]=self.regimen1\n",
    "        self.super_user()\n",
    "    def view_regimen(self):\n",
    "        self.b=input('Please enter the bmi of the person you want to see:')\n",
    "        \n",
    "        while self.b.isalpha == True:\n",
    "            print('***** Invalid option *****')\n",
    "            self.b=input('Please enter the bmi of the person you want to see:')\n",
    "            continue\n",
    "        self.c=input('please enter the contact of the person you wnat to see:')\n",
    "        while self.c.isdigit==False:\n",
    "            print('***** Invalid option *****')\n",
    "            self.c=input('please enter the contact of the person you wnat to see:')\n",
    "            continue\n",
    "        self.days=['Mon','Tue','Wed','Thur','Fri','Sat','Sun']\n",
    "        if float(self.b)<18.5:\n",
    "            \n",
    "            for i in self.days:\n",
    "                print(i+':'+self.regimen_list_18[self.c][i])\n",
    "            self.super_user()\n",
    "        elif float(self.b)<25:\n",
    "            for i in self.days:\n",
    "                print(i+':'+self.regimen_list_25[self.c][i])\n",
    "            self.super_user()\n",
    "        elif float(self.b)<30:\n",
    "            for i in self.days:\n",
    "                print(i+':'+self.regimen_list_30[self.c][i])\n",
    "            self.super_user()\n",
    "        elif float(self.b)>30:\n",
    "            for i in self.days:\n",
    "                print(i+':'+self.regimen4[self.c][i])\n",
    "            self.super_user()\n",
    "        else:\n",
    "            print('**** Please choose the correct option ****')\n",
    "            self.super_user()\n",
    "    def delete_regimen(self):\n",
    "        self.b=input('Please select the bmi of person which yo want to delete:')\n",
    "        while self.b.isalpha==True:\n",
    "            print('***** Invalid option *****')\n",
    "            self.b=input('Please select the bmi of person which yo want to delete:')\n",
    "            continue\n",
    "        self.c=input('please enter the contact of the person which you wnat to delete:')\n",
    "        while self.c.isdigit==False:\n",
    "            print('***** Invalid option *****')\n",
    "            self.c=input('please enter the contact of the person which you wnat to selete:')\n",
    "            continue\n",
    "        if float(self.b)<18.5:\n",
    "            self.regimen_list_18.pop(self.c)\n",
    "            print('***** The regimen has deleted *****')\n",
    "            self.super_user()\n",
    "        elif float(self.b)<25:\n",
    "            self.regimen_list_25.pop(self.c)\n",
    "            print('***** The regimen has deleted *****')\n",
    "            self.super_user()\n",
    "        elif float(self.b)<30:\n",
    "            self.regimen_list_30.pop(self.c)\n",
    "            print('***** The regimen has deleted *****')\n",
    "            self.super_user()\n",
    "        elif float(self.b)>30:\n",
    "            self.regimen4.pop(self.c)\n",
    "            print('***** The regimen has deleted *****')\n",
    "        self.super_user()\n",
    "    def update_regimen(self):\n",
    "        while True:\n",
    "            self.b=input('Please select the bmi of person which yo want to delete:')\n",
    "            while self.b.isalpha==True:\n",
    "                print('***** Invalid option *****')\n",
    "                self.b=input('Please select the bmi of person which yo want to update:')\n",
    "                continue\n",
    "            self.c=input('please enter the contact of the person which you wnat to delete:')\n",
    "            while self.c.isdigit==False:\n",
    "                print('***** Invalid option *****')\n",
    "                self.c=input('please enter the contact of the person which you wnat to update:')\n",
    "                continue\n",
    "            self.day=input('Please enter the day which you wnat to update:')\n",
    "            while self.day.title() not in ['Mon','Tue','Wed','Thur','Fri','Sat','Sun']:\n",
    "                print('***** Invalid option *****')\n",
    "                self.day=input('Please enter the day which you wnat to update:')\n",
    "                continue\n",
    "            self.day=self.day.title()\n",
    "            self.update=input('please enter what you want to update:')\n",
    "            while self.update.isalpha == False or self.update not in ['legs','chest','biceps','rest','back','cardio','cardio/abs']:\n",
    "                print('***** Invalid option *****')\n",
    "                self.update=input('please enter what you want to update:')\n",
    "                continue\n",
    "            if float(self.b)<18.5:\n",
    "                self.regimen_list_18[self.c][self.day]=self.update\n",
    "                print('**** Your regimen updated *****')\n",
    "                \n",
    "            elif float(self.b)<25:\n",
    "                self.regimen_list_25[self.c][self.day]=self.update\n",
    "                print('**** Your regimen updated *****')\n",
    "            elif float(self.b)<30:\n",
    "                self.regimen_list_30[self.c][self.day]=self.update\n",
    "                print('**** Your regimen updated *****')\n",
    "            elif float(self.b)>30:\n",
    "                self.regimen4[self.c][self.day]=self.update\n",
    "            \n",
    "                print('**** Your regimen updated *****')\n",
    "            self.o=input('Please enter 1 to update further or enter 0 to quit')\n",
    "            while self.o.isdigit==False or self.o not in ['0','1']:\n",
    "                print('***** Invalid option *****')\n",
    "                self.o=input('Please enter 1 to update further or enter 0 to quit')\n",
    "                continue\n",
    "            if self.o=='1':\n",
    "                continue\n",
    "            else:\n",
    "                self.super_user()\n",
    "    def my_regimen(self):\n",
    "        self.days=['Mon','Tue','Wed','Thur','Fri','Sat','Sun']\n",
    "        self.b=input('Please enter your bmi:')\n",
    "        \n",
    "        while self.b.isalpha == True:\n",
    "            print('***** Invalid option *****')\n",
    "            self.b=input('Please enter your bmi:')\n",
    "            continue\n",
    "        self.con=input('please enter your contact:')\n",
    "        while self.con.isdigit==False:\n",
    "            print('***** Invalid option *****')\n",
    "            self.con=input('please enter your contact:')\n",
    "            continue\n",
    "        self.con=str(self.con)\n",
    "        if float(self.b)<18.5: \n",
    "            for i in self.days:\n",
    "                print(i+':'+self.regimen_list_18[self.con][i])\n",
    "            self.super_user()\n",
    "        elif float(self.b)<25:\n",
    "            for i in self.days:\n",
    "                print(i+':'+self.regimen_list_25[self.con][i])\n",
    "            self.super_user()\n",
    "        elif float(self.b)<30:\n",
    "            for i in self.days:\n",
    "                print(i+':'+self.regimen_list_30[self.con][i])\n",
    "            self.super_user()\n",
    "        elif float(self.b)>30:\n",
    "            for i in self.days:\n",
    "                print(i+':'+self.regimen4[self.con][i])\n",
    "            self.super_user()\n",
    "        else:\n",
    "            print('**** Please choose the correct option ****')\n",
    "            self.member()\n",
    "        \n",
    "        \n",
    "        \n",
    "        \n",
    "            \n",
    "        \n",
    "        \n",
    "             \n",
    "                \n",
    "    \n",
    "    \n",
    "            \n",
    "            \n",
    "        \n",
    "        \n",
    "            \n",
    "            \n",
    "            "
   ]
  },
  {
   "cell_type": "code",
   "execution_count": null,
   "metadata": {},
   "outputs": [
    {
     "name": "stdout",
     "output_type": "stream",
     "text": [
      "Please choose who you are USER/MEMBER:super user\n",
      "****** Please choose the following options ***************\n",
      "1. Create a member\n",
      "2. View member\n",
      "3. Delete member\n",
      "4. Upadte member\n",
      "5. Create Regimen\n",
      "6. View Regimen\n",
      "7. Delete Regimen\n",
      "8. Update Regimen\n",
      "0. Exit\n",
      "please select the option from above:0\n",
      "***** please choose the following options *****\n",
      "1. My Regimen\n",
      "2. My profile\n",
      "0. Exit\n",
      "please select the option from above:0\n",
      "****** Please choose the following options ***************\n",
      "1. Create a member\n",
      "2. View member\n",
      "3. Delete member\n",
      "4. Upadte member\n",
      "5. Create Regimen\n",
      "6. View Regimen\n",
      "7. Delete Regimen\n",
      "8. Update Regimen\n",
      "0. Exit\n",
      "please select the option from above:1\n",
      "Please enter your name:arun\n",
      "Please enter your age:21\n",
      "Please select your gender MALE/FEMALE/OTHER:male\n",
      "Please enter your phone number:999\n",
      "please enter yor email:arun\n",
      "please enter the BMI(BODY MASS INDEX):12\n",
      "Please enter the duration in months:12\n",
      "please confirm to add the mmber y/n:y\n",
      "****** Please choose the following options ***************\n",
      "1. Create a member\n",
      "2. View member\n",
      "3. Delete member\n",
      "4. Upadte member\n",
      "5. Create Regimen\n",
      "6. View Regimen\n",
      "7. Delete Regimen\n",
      "8. Update Regimen\n",
      "0. Exit\n"
     ]
    }
   ],
   "source": [
    " g=Gym()"
   ]
  },
  {
   "cell_type": "code",
   "execution_count": 195,
   "metadata": {},
   "outputs": [
    {
     "data": {
      "text/plain": [
       "'arun'"
      ]
     },
     "execution_count": 195,
     "metadata": {},
     "output_type": "execute_result"
    }
   ],
   "source": [
    "g.name"
   ]
  },
  {
   "cell_type": "code",
   "execution_count": 196,
   "metadata": {},
   "outputs": [],
   "source": [
    "a='arun@gmail.com'"
   ]
  },
  {
   "cell_type": "code",
   "execution_count": 54,
   "metadata": {},
   "outputs": [
    {
     "data": {
      "text/plain": [
       "False"
      ]
     },
     "execution_count": 54,
     "metadata": {},
     "output_type": "execute_result"
    }
   ],
   "source": [
    "a.isalpha()"
   ]
  },
  {
   "cell_type": "code",
   "execution_count": 52,
   "metadata": {},
   "outputs": [
    {
     "data": {
      "text/plain": [
       "'male'"
      ]
     },
     "execution_count": 52,
     "metadata": {},
     "output_type": "execute_result"
    }
   ],
   "source": [
    "g.gender"
   ]
  },
  {
   "cell_type": "code",
   "execution_count": 56,
   "metadata": {},
   "outputs": [],
   "source": [
    "a='3.4'"
   ]
  },
  {
   "cell_type": "code",
   "execution_count": 60,
   "metadata": {},
   "outputs": [
    {
     "data": {
      "text/plain": [
       "False"
      ]
     },
     "execution_count": 60,
     "metadata": {},
     "output_type": "execute_result"
    }
   ],
   "source": []
  },
  {
   "cell_type": "code",
   "execution_count": 61,
   "metadata": {},
   "outputs": [
    {
     "data": {
      "text/plain": [
       "False"
      ]
     },
     "execution_count": 61,
     "metadata": {},
     "output_type": "execute_result"
    }
   ],
   "source": [
    "1>3.4"
   ]
  },
  {
   "cell_type": "code",
   "execution_count": 62,
   "metadata": {},
   "outputs": [
    {
     "data": {
      "text/plain": [
       "True"
      ]
     },
     "execution_count": 62,
     "metadata": {},
     "output_type": "execute_result"
    }
   ],
   "source": [
    "1>0.1"
   ]
  },
  {
   "cell_type": "code",
   "execution_count": 69,
   "metadata": {},
   "outputs": [
    {
     "data": {
      "text/plain": [
       "'1'"
      ]
     },
     "execution_count": 69,
     "metadata": {},
     "output_type": "execute_result"
    }
   ],
   "source": [
    "a='1'\n",
    "a.casefold()"
   ]
  },
  {
   "cell_type": "code",
   "execution_count": 161,
   "metadata": {},
   "outputs": [],
   "source": [
    "a={'name':['arun','']}"
   ]
  },
  {
   "cell_type": "code",
   "execution_count": 162,
   "metadata": {},
   "outputs": [
    {
     "data": {
      "text/plain": [
       "{'9999': ['arun', '21', 'male', '9999', 'arun223@gmail.com', '22.52', '12']}"
      ]
     },
     "execution_count": 162,
     "metadata": {},
     "output_type": "execute_result"
    }
   ],
   "source": [
    "g.details_user"
   ]
  },
  {
   "cell_type": "code",
   "execution_count": 163,
   "metadata": {},
   "outputs": [],
   "source": [
    "a['name'][1]='kumar'"
   ]
  },
  {
   "cell_type": "code",
   "execution_count": 164,
   "metadata": {},
   "outputs": [
    {
     "data": {
      "text/plain": [
       "{'name': ['arun', 'kumar']}"
      ]
     },
     "execution_count": 164,
     "metadata": {},
     "output_type": "execute_result"
    }
   ],
   "source": [
    "a"
   ]
  },
  {
   "cell_type": "code",
   "execution_count": 171,
   "metadata": {},
   "outputs": [],
   "source": [
    "a={}"
   ]
  },
  {
   "cell_type": "code",
   "execution_count": 172,
   "metadata": {},
   "outputs": [],
   "source": [
    "a['name'.casefold()]='arun'"
   ]
  },
  {
   "cell_type": "code",
   "execution_count": 173,
   "metadata": {},
   "outputs": [
    {
     "data": {
      "text/plain": [
       "{'name': 'arun'}"
      ]
     },
     "execution_count": 173,
     "metadata": {},
     "output_type": "execute_result"
    }
   ],
   "source": [
    "a"
   ]
  },
  {
   "cell_type": "code",
   "execution_count": 184,
   "metadata": {},
   "outputs": [],
   "source": [
    "d={}"
   ]
  },
  {
   "cell_type": "code",
   "execution_count": 186,
   "metadata": {},
   "outputs": [
    {
     "ename": "KeyError",
     "evalue": "'arun'",
     "output_type": "error",
     "traceback": [
      "\u001b[1;31m---------------------------------------------------------------------------\u001b[0m",
      "\u001b[1;31mKeyError\u001b[0m                                  Traceback (most recent call last)",
      "\u001b[1;32m<ipython-input-186-7a1f103c6f7b>\u001b[0m in \u001b[0;36m<module>\u001b[1;34m\u001b[0m\n\u001b[1;32m----> 1\u001b[1;33m \u001b[0md\u001b[0m\u001b[1;33m[\u001b[0m\u001b[1;34m'arun'\u001b[0m\u001b[1;33m]\u001b[0m\u001b[1;33m[\u001b[0m\u001b[1;34m'kumar'\u001b[0m\u001b[1;33m]\u001b[0m\u001b[1;33m=\u001b[0m\u001b[1;36m23\u001b[0m\u001b[1;33m\u001b[0m\u001b[1;33m\u001b[0m\u001b[0m\n\u001b[0m",
      "\u001b[1;31mKeyError\u001b[0m: 'arun'"
     ]
    }
   ],
   "source": [
    "d['arun']['kumar']=23"
   ]
  },
  {
   "cell_type": "code",
   "execution_count": 248,
   "metadata": {},
   "outputs": [
    {
     "data": {
      "text/plain": [
       "{'9999': {'Mon': 'chest',\n",
       "  'Tue': 'biceps',\n",
       "  'Wed': 'cardio',\n",
       "  'Thur': 'back',\n",
       "  'Fri': 'legs',\n",
       "  'Sat': 'rest',\n",
       "  'Sun': 'rest'}}"
      ]
     },
     "execution_count": 248,
     "metadata": {},
     "output_type": "execute_result"
    }
   ],
   "source": [
    "g.regimen_list_18"
   ]
  },
  {
   "cell_type": "code",
   "execution_count": 255,
   "metadata": {},
   "outputs": [
    {
     "data": {
      "text/plain": [
       "{'9999': {'Mon': 'chest',\n",
       "  'Tue': 'biceps',\n",
       "  'Wed': 'cardio',\n",
       "  'Thur': 'back',\n",
       "  'Fri': 'legs',\n",
       "  'Sat': 'rest',\n",
       "  'Sun': 'rest'}}"
      ]
     },
     "execution_count": 255,
     "metadata": {},
     "output_type": "execute_result"
    }
   ],
   "source": [
    "g.regimen_list_25"
   ]
  },
  {
   "cell_type": "code",
   "execution_count": 256,
   "metadata": {},
   "outputs": [
    {
     "data": {
      "text/plain": [
       "{'9999': {'Mon': 'chest',\n",
       "  'Tue': 'biceps',\n",
       "  'Wed': 'cardio',\n",
       "  'Thur': 'back',\n",
       "  'Fri': 'legs',\n",
       "  'Sat': 'rest',\n",
       "  'Sun': 'rest'}}"
      ]
     },
     "execution_count": 256,
     "metadata": {},
     "output_type": "execute_result"
    }
   ],
   "source": [
    "g.regimen_list_18"
   ]
  },
  {
   "cell_type": "code",
   "execution_count": 282,
   "metadata": {},
   "outputs": [
    {
     "data": {
      "text/plain": [
       "{'Mon': 'chest',\n",
       " 'Tue': 'biceps',\n",
       " 'Wed': 'cardio',\n",
       " 'Thur': 'back',\n",
       " 'Fri': 'legs',\n",
       " 'Sat': 'rest',\n",
       " 'Sun': 'rest'}"
      ]
     },
     "execution_count": 282,
     "metadata": {},
     "output_type": "execute_result"
    }
   ],
   "source": [
    "g.regimen1"
   ]
  },
  {
   "cell_type": "code",
   "execution_count": 281,
   "metadata": {},
   "outputs": [
    {
     "data": {
      "text/plain": [
       "{'9999': {'Mon': 'chest',\n",
       "  'Tue': 'biceps',\n",
       "  'Wed': 'cardio',\n",
       "  'Thur': 'back',\n",
       "  'Fri': 'legs',\n",
       "  'Sat': 'rest',\n",
       "  'Sun': 'rest'}}"
      ]
     },
     "execution_count": 281,
     "metadata": {},
     "output_type": "execute_result"
    }
   ],
   "source": [
    "g.regimen4"
   ]
  },
  {
   "cell_type": "code",
   "execution_count": 280,
   "metadata": {},
   "outputs": [
    {
     "data": {
      "text/plain": [
       "{'9999': {'Mon': 'chest',\n",
       "  'Tue': 'biceps',\n",
       "  'Wed': 'cardio',\n",
       "  'Thur': 'back',\n",
       "  'Fri': 'legs',\n",
       "  'Sat': 'rest',\n",
       "  'Sun': 'rest'}}"
      ]
     },
     "execution_count": 280,
     "metadata": {},
     "output_type": "execute_result"
    }
   ],
   "source": [
    "g.regimen_list_18"
   ]
  },
  {
   "cell_type": "code",
   "execution_count": 279,
   "metadata": {},
   "outputs": [
    {
     "data": {
      "text/plain": [
       "{'9999': {'Mon': 'chest',\n",
       "  'Tue': 'biceps',\n",
       "  'Wed': 'cardio',\n",
       "  'Thur': 'back',\n",
       "  'Fri': 'legs',\n",
       "  'Sat': 'rest',\n",
       "  'Sun': 'rest'}}"
      ]
     },
     "execution_count": 279,
     "metadata": {},
     "output_type": "execute_result"
    }
   ],
   "source": [
    "g.regimen_list_18"
   ]
  },
  {
   "cell_type": "code",
   "execution_count": 278,
   "metadata": {},
   "outputs": [
    {
     "data": {
      "text/plain": [
       "{'Mon': 'chest',\n",
       " 'Tue': 'biceps',\n",
       " 'Wed': 'cardio',\n",
       " 'Thur': 'back',\n",
       " 'Fri': 'legs',\n",
       " 'Sat': 'rest',\n",
       " 'Sun': 'rest'}"
      ]
     },
     "execution_count": 278,
     "metadata": {},
     "output_type": "execute_result"
    }
   ],
   "source": [
    "g.regimen1"
   ]
  },
  {
   "cell_type": "code",
   "execution_count": 270,
   "metadata": {},
   "outputs": [
    {
     "data": {
      "text/plain": [
       "{'9999': {'Mon': 'chest',\n",
       "  'Tue': 'biceps',\n",
       "  'Wed': 'cardio',\n",
       "  'Thur': 'back',\n",
       "  'Fri': 'legs',\n",
       "  'Sat': 'rest',\n",
       "  'Sun': 'rest'}}"
      ]
     },
     "execution_count": 270,
     "metadata": {},
     "output_type": "execute_result"
    }
   ],
   "source": [
    "g.regimen_list_25"
   ]
  },
  {
   "cell_type": "code",
   "execution_count": 273,
   "metadata": {},
   "outputs": [
    {
     "data": {
      "text/plain": [
       "'21'"
      ]
     },
     "execution_count": 273,
     "metadata": {},
     "output_type": "execute_result"
    }
   ],
   "source": [
    "g.age"
   ]
  },
  {
   "cell_type": "code",
   "execution_count": 274,
   "metadata": {},
   "outputs": [
    {
     "data": {
      "text/plain": [
       "'12'"
      ]
     },
     "execution_count": 274,
     "metadata": {},
     "output_type": "execute_result"
    }
   ],
   "source": [
    "g.bmi"
   ]
  },
  {
   "cell_type": "code",
   "execution_count": 275,
   "metadata": {},
   "outputs": [
    {
     "data": {
      "text/plain": [
       "{'9999': {'Mon': 'chest',\n",
       "  'Tue': 'biceps',\n",
       "  'Wed': 'cardio',\n",
       "  'Thur': 'back',\n",
       "  'Fri': 'legs',\n",
       "  'Sat': 'rest',\n",
       "  'Sun': 'rest'}}"
      ]
     },
     "execution_count": 275,
     "metadata": {},
     "output_type": "execute_result"
    }
   ],
   "source": [
    "g.regimen_list_30"
   ]
  },
  {
   "cell_type": "code",
   "execution_count": null,
   "metadata": {},
   "outputs": [],
   "source": []
  }
 ],
 "metadata": {
  "kernelspec": {
   "display_name": "Python 3",
   "language": "python",
   "name": "python3"
  },
  "language_info": {
   "codemirror_mode": {
    "name": "ipython",
    "version": 3
   },
   "file_extension": ".py",
   "mimetype": "text/x-python",
   "name": "python",
   "nbconvert_exporter": "python",
   "pygments_lexer": "ipython3",
   "version": "3.8.3"
  }
 },
 "nbformat": 4,
 "nbformat_minor": 4
}
