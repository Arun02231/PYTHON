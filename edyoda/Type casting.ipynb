{
 "cells": [
  {
   "cell_type": "code",
   "execution_count": 1,
   "metadata": {},
   "outputs": [],
   "source": [
    "a=10\n",
    "b=20.45\n",
    "c='arun kumar'\n",
    "c1='20'\n",
    "l=[1,2,3,4]\n",
    "l1=['arun','kumar']\n",
    "t=(10,20,30)\n",
    "t1=('arun','kumar')\n",
    "d={'name':'arun','age':21}"
   ]
  },
  {
   "cell_type": "code",
   "execution_count": 2,
   "metadata": {},
   "outputs": [
    {
     "data": {
      "text/plain": [
       "10"
      ]
     },
     "execution_count": 2,
     "metadata": {},
     "output_type": "execute_result"
    }
   ],
   "source": [
    "int(a)"
   ]
  },
  {
   "cell_type": "code",
   "execution_count": 3,
   "metadata": {},
   "outputs": [
    {
     "data": {
      "text/plain": [
       "20"
      ]
     },
     "execution_count": 3,
     "metadata": {},
     "output_type": "execute_result"
    }
   ],
   "source": [
    "int(b)"
   ]
  },
  {
   "cell_type": "code",
   "execution_count": 4,
   "metadata": {},
   "outputs": [
    {
     "ename": "ValueError",
     "evalue": "invalid literal for int() with base 10: 'arun kumar'",
     "output_type": "error",
     "traceback": [
      "\u001b[1;31m---------------------------------------------------------------------------\u001b[0m",
      "\u001b[1;31mValueError\u001b[0m                                Traceback (most recent call last)",
      "\u001b[1;32m<ipython-input-4-089eb950f64f>\u001b[0m in \u001b[0;36m<module>\u001b[1;34m\u001b[0m\n\u001b[1;32m----> 1\u001b[1;33m \u001b[0mint\u001b[0m\u001b[1;33m(\u001b[0m\u001b[0mc\u001b[0m\u001b[1;33m)\u001b[0m\u001b[1;33m\u001b[0m\u001b[1;33m\u001b[0m\u001b[0m\n\u001b[0m",
      "\u001b[1;31mValueError\u001b[0m: invalid literal for int() with base 10: 'arun kumar'"
     ]
    }
   ],
   "source": [
    "int(c)"
   ]
  },
  {
   "cell_type": "code",
   "execution_count": 5,
   "metadata": {},
   "outputs": [
    {
     "data": {
      "text/plain": [
       "20"
      ]
     },
     "execution_count": 5,
     "metadata": {},
     "output_type": "execute_result"
    }
   ],
   "source": [
    "int(c1)"
   ]
  },
  {
   "cell_type": "code",
   "execution_count": 6,
   "metadata": {},
   "outputs": [
    {
     "ename": "TypeError",
     "evalue": "int() argument must be a string, a bytes-like object or a number, not 'list'",
     "output_type": "error",
     "traceback": [
      "\u001b[1;31m---------------------------------------------------------------------------\u001b[0m",
      "\u001b[1;31mTypeError\u001b[0m                                 Traceback (most recent call last)",
      "\u001b[1;32m<ipython-input-6-cfe03a2780f5>\u001b[0m in \u001b[0;36m<module>\u001b[1;34m\u001b[0m\n\u001b[1;32m----> 1\u001b[1;33m \u001b[0mint\u001b[0m\u001b[1;33m(\u001b[0m\u001b[0ml\u001b[0m\u001b[1;33m)\u001b[0m\u001b[1;33m\u001b[0m\u001b[1;33m\u001b[0m\u001b[0m\n\u001b[0m",
      "\u001b[1;31mTypeError\u001b[0m: int() argument must be a string, a bytes-like object or a number, not 'list'"
     ]
    }
   ],
   "source": [
    "int(l)"
   ]
  },
  {
   "cell_type": "code",
   "execution_count": 7,
   "metadata": {},
   "outputs": [
    {
     "ename": "TypeError",
     "evalue": "'int' object is not iterable",
     "output_type": "error",
     "traceback": [
      "\u001b[1;31m---------------------------------------------------------------------------\u001b[0m",
      "\u001b[1;31mTypeError\u001b[0m                                 Traceback (most recent call last)",
      "\u001b[1;32m<ipython-input-7-e8d606e78fd4>\u001b[0m in \u001b[0;36m<module>\u001b[1;34m\u001b[0m\n\u001b[1;32m----> 1\u001b[1;33m \u001b[0mlist\u001b[0m\u001b[1;33m(\u001b[0m\u001b[0ma\u001b[0m\u001b[1;33m)\u001b[0m\u001b[1;33m\u001b[0m\u001b[1;33m\u001b[0m\u001b[0m\n\u001b[0m",
      "\u001b[1;31mTypeError\u001b[0m: 'int' object is not iterable"
     ]
    }
   ],
   "source": [
    "list(a)"
   ]
  },
  {
   "cell_type": "code",
   "execution_count": 8,
   "metadata": {},
   "outputs": [
    {
     "data": {
      "text/plain": [
       "['a', 'r', 'u', 'n', ' ', 'k', 'u', 'm', 'a', 'r']"
      ]
     },
     "execution_count": 8,
     "metadata": {},
     "output_type": "execute_result"
    }
   ],
   "source": [
    "list(c)"
   ]
  },
  {
   "cell_type": "code",
   "execution_count": 10,
   "metadata": {},
   "outputs": [
    {
     "data": {
      "text/plain": [
       "('a', 'r', 'u', 'n', ' ', 'k', 'u', 'm', 'a', 'r')"
      ]
     },
     "execution_count": 10,
     "metadata": {},
     "output_type": "execute_result"
    }
   ],
   "source": [
    "tuple(c)"
   ]
  },
  {
   "cell_type": "code",
   "execution_count": 16,
   "metadata": {},
   "outputs": [
    {
     "data": {
      "text/plain": [
       "{'arun': 'kumar'}"
      ]
     },
     "execution_count": 16,
     "metadata": {},
     "output_type": "execute_result"
    }
   ],
   "source": [
    "dict([('arun','kumar')])"
   ]
  },
  {
   "cell_type": "code",
   "execution_count": 17,
   "metadata": {},
   "outputs": [
    {
     "data": {
      "text/plain": [
       "{'20': '20'}"
      ]
     },
     "execution_count": 17,
     "metadata": {},
     "output_type": "execute_result"
    }
   ],
   "source": [
    "dict([(c1,c1)])"
   ]
  },
  {
   "cell_type": "code",
   "execution_count": 18,
   "metadata": {},
   "outputs": [
    {
     "data": {
      "text/plain": [
       "{'0', '2'}"
      ]
     },
     "execution_count": 18,
     "metadata": {},
     "output_type": "execute_result"
    }
   ],
   "source": [
    "set(c1)"
   ]
  },
  {
   "cell_type": "code",
   "execution_count": 19,
   "metadata": {},
   "outputs": [
    {
     "data": {
      "text/plain": [
       "{' ', 'a', 'k', 'm', 'n', 'r', 'u'}"
      ]
     },
     "execution_count": 19,
     "metadata": {},
     "output_type": "execute_result"
    }
   ],
   "source": [
    "set(c)"
   ]
  },
  {
   "cell_type": "code",
   "execution_count": 20,
   "metadata": {},
   "outputs": [
    {
     "data": {
      "text/plain": [
       "True"
      ]
     },
     "execution_count": 20,
     "metadata": {},
     "output_type": "execute_result"
    }
   ],
   "source": [
    "bool(c)"
   ]
  },
  {
   "cell_type": "code",
   "execution_count": 21,
   "metadata": {},
   "outputs": [
    {
     "data": {
      "text/plain": [
       "False"
      ]
     },
     "execution_count": 21,
     "metadata": {},
     "output_type": "execute_result"
    }
   ],
   "source": [
    "bool(0)"
   ]
  },
  {
   "cell_type": "markdown",
   "metadata": {},
   "source": [
    "## Data types"
   ]
  },
  {
   "cell_type": "code",
   "execution_count": null,
   "metadata": {},
   "outputs": [],
   "source": [
    "1)int\n",
    "2)float\n",
    "3)str\n",
    "4)list\n",
    "5)tuple\n",
    "6)dict\n",
    "7)set\n",
    "8)bool\n",
    "9)None"
   ]
  },
  {
   "cell_type": "markdown",
   "metadata": {},
   "source": [
    "## operators"
   ]
  },
  {
   "cell_type": "code",
   "execution_count": 23,
   "metadata": {},
   "outputs": [
    {
     "ename": "SyntaxError",
     "evalue": "unmatched ')' (<ipython-input-23-596737a26228>, line 1)",
     "output_type": "error",
     "traceback": [
      "\u001b[1;36m  File \u001b[1;32m\"<ipython-input-23-596737a26228>\"\u001b[1;36m, line \u001b[1;32m1\u001b[0m\n\u001b[1;33m    1)Arthimatic operators\u001b[0m\n\u001b[1;37m     ^\u001b[0m\n\u001b[1;31mSyntaxError\u001b[0m\u001b[1;31m:\u001b[0m unmatched ')'\n"
     ]
    }
   ],
   "source": [
    "1)Arthimatic operators\n",
    "     a)+\n",
    "    b)-\n",
    "    c)*\n",
    "    d)/\n",
    "    e)**\n",
    "    f)%\n",
    "    g)//\n",
    "2)Assignment operators\n",
    "    a)=\n",
    "    b)+=\n",
    "    c)-=\n",
    "    d)*=\n",
    "    e)/=\n",
    "    f)**=\n",
    "    g)%=\n",
    "3)Identity operators\n",
    "    a)is\n",
    "    b)is not\n",
    "4)Comparision operators\n",
    "    a)==\n",
    "    b)!=\n",
    "    c)<=\n",
    "    d)>=\n",
    "    e)<\n",
    "    f)>\n",
    "5)logical operators\n",
    "   a)and\n",
    "    b)or\n",
    "    c)not\n",
    "6)bitwise operators:\n",
    "    a)<<\n",
    "    b)>>\n",
    "    c)&\n",
    "    d)|\n",
    "    e)~\n",
    "7)Membership operators\n",
    "    a)in\n",
    "    b)not in"
   ]
  },
  {
   "cell_type": "markdown",
   "metadata": {},
   "source": [
    "## operators example"
   ]
  },
  {
   "cell_type": "code",
   "execution_count": 24,
   "metadata": {},
   "outputs": [],
   "source": [
    "a=10\n",
    "b=10"
   ]
  },
  {
   "cell_type": "code",
   "execution_count": 25,
   "metadata": {},
   "outputs": [
    {
     "data": {
      "text/plain": [
       "17"
      ]
     },
     "execution_count": 25,
     "metadata": {},
     "output_type": "execute_result"
    }
   ],
   "source": [
    "a+7"
   ]
  },
  {
   "cell_type": "code",
   "execution_count": 26,
   "metadata": {},
   "outputs": [
    {
     "data": {
      "text/plain": [
       "3"
      ]
     },
     "execution_count": 26,
     "metadata": {},
     "output_type": "execute_result"
    }
   ],
   "source": [
    "a-7"
   ]
  },
  {
   "cell_type": "code",
   "execution_count": 27,
   "metadata": {},
   "outputs": [
    {
     "data": {
      "text/plain": [
       "70"
      ]
     },
     "execution_count": 27,
     "metadata": {},
     "output_type": "execute_result"
    }
   ],
   "source": [
    "a*7"
   ]
  },
  {
   "cell_type": "code",
   "execution_count": 28,
   "metadata": {},
   "outputs": [
    {
     "data": {
      "text/plain": [
       "1.4285714285714286"
      ]
     },
     "execution_count": 28,
     "metadata": {},
     "output_type": "execute_result"
    }
   ],
   "source": [
    "a/7"
   ]
  },
  {
   "cell_type": "code",
   "execution_count": 29,
   "metadata": {},
   "outputs": [
    {
     "data": {
      "text/plain": [
       "1"
      ]
     },
     "execution_count": 29,
     "metadata": {},
     "output_type": "execute_result"
    }
   ],
   "source": [
    "a//7"
   ]
  },
  {
   "cell_type": "code",
   "execution_count": 30,
   "metadata": {},
   "outputs": [
    {
     "data": {
      "text/plain": [
       "10000000"
      ]
     },
     "execution_count": 30,
     "metadata": {},
     "output_type": "execute_result"
    }
   ],
   "source": [
    "a**7"
   ]
  },
  {
   "cell_type": "code",
   "execution_count": 31,
   "metadata": {},
   "outputs": [
    {
     "data": {
      "text/plain": [
       "3"
      ]
     },
     "execution_count": 31,
     "metadata": {},
     "output_type": "execute_result"
    }
   ],
   "source": [
    "a%7"
   ]
  },
  {
   "cell_type": "markdown",
   "metadata": {},
   "source": [
    "## Comparision operators"
   ]
  },
  {
   "cell_type": "code",
   "execution_count": 32,
   "metadata": {},
   "outputs": [
    {
     "data": {
      "text/plain": [
       "True"
      ]
     },
     "execution_count": 32,
     "metadata": {},
     "output_type": "execute_result"
    }
   ],
   "source": [
    "a==b"
   ]
  },
  {
   "cell_type": "code",
   "execution_count": 33,
   "metadata": {},
   "outputs": [
    {
     "data": {
      "text/plain": [
       "False"
      ]
     },
     "execution_count": 33,
     "metadata": {},
     "output_type": "execute_result"
    }
   ],
   "source": [
    "a!=b"
   ]
  },
  {
   "cell_type": "code",
   "execution_count": 34,
   "metadata": {},
   "outputs": [
    {
     "data": {
      "text/plain": [
       "True"
      ]
     },
     "execution_count": 34,
     "metadata": {},
     "output_type": "execute_result"
    }
   ],
   "source": [
    "a<=b"
   ]
  },
  {
   "cell_type": "code",
   "execution_count": 35,
   "metadata": {},
   "outputs": [
    {
     "data": {
      "text/plain": [
       "True"
      ]
     },
     "execution_count": 35,
     "metadata": {},
     "output_type": "execute_result"
    }
   ],
   "source": [
    "a>=b"
   ]
  },
  {
   "cell_type": "markdown",
   "metadata": {},
   "source": [
    "## logical operators"
   ]
  },
  {
   "cell_type": "code",
   "execution_count": 37,
   "metadata": {},
   "outputs": [
    {
     "data": {
      "text/plain": [
       "False"
      ]
     },
     "execution_count": 37,
     "metadata": {},
     "output_type": "execute_result"
    }
   ],
   "source": [
    "a==10 and b==20"
   ]
  },
  {
   "cell_type": "code",
   "execution_count": 38,
   "metadata": {},
   "outputs": [
    {
     "data": {
      "text/plain": [
       "True"
      ]
     },
     "execution_count": 38,
     "metadata": {},
     "output_type": "execute_result"
    }
   ],
   "source": [
    "a==10 or b==10"
   ]
  },
  {
   "cell_type": "code",
   "execution_count": 40,
   "metadata": {},
   "outputs": [
    {
     "data": {
      "text/plain": [
       "False"
      ]
     },
     "execution_count": 40,
     "metadata": {},
     "output_type": "execute_result"
    }
   ],
   "source": [
    "not a==10"
   ]
  },
  {
   "cell_type": "markdown",
   "metadata": {},
   "source": [
    "## Bitwise operators"
   ]
  },
  {
   "cell_type": "code",
   "execution_count": 41,
   "metadata": {},
   "outputs": [
    {
     "data": {
      "text/plain": [
       "40"
      ]
     },
     "execution_count": 41,
     "metadata": {},
     "output_type": "execute_result"
    }
   ],
   "source": [
    "a<<2"
   ]
  },
  {
   "cell_type": "code",
   "execution_count": 42,
   "metadata": {},
   "outputs": [
    {
     "data": {
      "text/plain": [
       "2"
      ]
     },
     "execution_count": 42,
     "metadata": {},
     "output_type": "execute_result"
    }
   ],
   "source": [
    "a>>2"
   ]
  },
  {
   "cell_type": "code",
   "execution_count": 43,
   "metadata": {},
   "outputs": [
    {
     "data": {
      "text/plain": [
       "10"
      ]
     },
     "execution_count": 43,
     "metadata": {},
     "output_type": "execute_result"
    }
   ],
   "source": [
    "a&b"
   ]
  },
  {
   "cell_type": "code",
   "execution_count": 44,
   "metadata": {},
   "outputs": [
    {
     "data": {
      "text/plain": [
       "10"
      ]
     },
     "execution_count": 44,
     "metadata": {},
     "output_type": "execute_result"
    }
   ],
   "source": [
    "a|b"
   ]
  },
  {
   "cell_type": "code",
   "execution_count": 46,
   "metadata": {},
   "outputs": [
    {
     "data": {
      "text/plain": [
       "0"
      ]
     },
     "execution_count": 46,
     "metadata": {},
     "output_type": "execute_result"
    }
   ],
   "source": [
    "a^b"
   ]
  },
  {
   "cell_type": "markdown",
   "metadata": {},
   "source": [
    "## Identity operators"
   ]
  },
  {
   "cell_type": "code",
   "execution_count": 47,
   "metadata": {},
   "outputs": [],
   "source": [
    "a=10\n",
    "b=10"
   ]
  },
  {
   "cell_type": "code",
   "execution_count": 48,
   "metadata": {},
   "outputs": [
    {
     "data": {
      "text/plain": [
       "True"
      ]
     },
     "execution_count": 48,
     "metadata": {},
     "output_type": "execute_result"
    }
   ],
   "source": [
    "a is b"
   ]
  },
  {
   "cell_type": "code",
   "execution_count": 50,
   "metadata": {},
   "outputs": [
    {
     "data": {
      "text/plain": [
       "False"
      ]
     },
     "execution_count": 50,
     "metadata": {},
     "output_type": "execute_result"
    }
   ],
   "source": [
    "a is not b"
   ]
  },
  {
   "cell_type": "code",
   "execution_count": 51,
   "metadata": {},
   "outputs": [],
   "source": [
    "a='arun'"
   ]
  },
  {
   "cell_type": "code",
   "execution_count": 52,
   "metadata": {},
   "outputs": [],
   "source": [
    "b='arun'"
   ]
  },
  {
   "cell_type": "code",
   "execution_count": 53,
   "metadata": {},
   "outputs": [
    {
     "data": {
      "text/plain": [
       "True"
      ]
     },
     "execution_count": 53,
     "metadata": {},
     "output_type": "execute_result"
    }
   ],
   "source": [
    "a == b"
   ]
  },
  {
   "cell_type": "code",
   "execution_count": 54,
   "metadata": {},
   "outputs": [
    {
     "data": {
      "text/plain": [
       "True"
      ]
     },
     "execution_count": 54,
     "metadata": {},
     "output_type": "execute_result"
    }
   ],
   "source": [
    "'a' in a"
   ]
  },
  {
   "cell_type": "code",
   "execution_count": 55,
   "metadata": {},
   "outputs": [
    {
     "data": {
      "text/plain": [
       "False"
      ]
     },
     "execution_count": 55,
     "metadata": {},
     "output_type": "execute_result"
    }
   ],
   "source": [
    "'x' in b"
   ]
  },
  {
   "cell_type": "markdown",
   "metadata": {},
   "source": [
    "## Mutability vs Immutability"
   ]
  },
  {
   "cell_type": "code",
   "execution_count": 56,
   "metadata": {},
   "outputs": [],
   "source": [
    "a=10\n",
    "b=10"
   ]
  },
  {
   "cell_type": "code",
   "execution_count": 57,
   "metadata": {},
   "outputs": [
    {
     "data": {
      "text/plain": [
       "True"
      ]
     },
     "execution_count": 57,
     "metadata": {},
     "output_type": "execute_result"
    }
   ],
   "source": [
    "a is b"
   ]
  },
  {
   "cell_type": "code",
   "execution_count": 59,
   "metadata": {},
   "outputs": [
    {
     "name": "stdout",
     "output_type": "stream",
     "text": [
      "140712393390144\n",
      "140712393390144\n"
     ]
    }
   ],
   "source": [
    "print(id(a))\n",
    "print(id(b))"
   ]
  },
  {
   "cell_type": "code",
   "execution_count": 60,
   "metadata": {},
   "outputs": [],
   "source": [
    "a='arun'"
   ]
  },
  {
   "cell_type": "code",
   "execution_count": 61,
   "metadata": {},
   "outputs": [],
   "source": [
    "b='arun'"
   ]
  },
  {
   "cell_type": "code",
   "execution_count": 62,
   "metadata": {},
   "outputs": [
    {
     "data": {
      "text/plain": [
       "True"
      ]
     },
     "execution_count": 62,
     "metadata": {},
     "output_type": "execute_result"
    }
   ],
   "source": [
    "a is b"
   ]
  },
  {
   "cell_type": "code",
   "execution_count": 63,
   "metadata": {},
   "outputs": [],
   "source": [
    "a=['123']"
   ]
  },
  {
   "cell_type": "code",
   "execution_count": 64,
   "metadata": {},
   "outputs": [],
   "source": [
    "b=['123']"
   ]
  },
  {
   "cell_type": "code",
   "execution_count": 65,
   "metadata": {},
   "outputs": [
    {
     "data": {
      "text/plain": [
       "False"
      ]
     },
     "execution_count": 65,
     "metadata": {},
     "output_type": "execute_result"
    }
   ],
   "source": [
    "a is b"
   ]
  },
  {
   "cell_type": "markdown",
   "metadata": {},
   "source": [
    "### From above you can see that the both int and str is same but stored in different objects but list not like that stored in different objects if both the values are same"
   ]
  },
  {
   "cell_type": "code",
   "execution_count": null,
   "metadata": {},
   "outputs": [],
   "source": [
    "so from above you can see that the list are mutable\n",
    "\n",
    "int str immuatable"
   ]
  },
  {
   "cell_type": "code",
   "execution_count": null,
   "metadata": {},
   "outputs": [],
   "source": [
    "immutable data types are:\n",
    "    \n",
    "    1)int\n",
    "    2)float\n",
    "    3)str\n",
    "    4)tuple\n",
    "    5)bool\n",
    "    6)None"
   ]
  },
  {
   "cell_type": "code",
   "execution_count": 66,
   "metadata": {},
   "outputs": [],
   "source": [
    "s={1,2,3,4}"
   ]
  },
  {
   "cell_type": "code",
   "execution_count": 67,
   "metadata": {},
   "outputs": [
    {
     "ename": "TypeError",
     "evalue": "'set' object does not support item assignment",
     "output_type": "error",
     "traceback": [
      "\u001b[1;31m---------------------------------------------------------------------------\u001b[0m",
      "\u001b[1;31mTypeError\u001b[0m                                 Traceback (most recent call last)",
      "\u001b[1;32m<ipython-input-67-3d80a90e2b97>\u001b[0m in \u001b[0;36m<module>\u001b[1;34m\u001b[0m\n\u001b[1;32m----> 1\u001b[1;33m \u001b[0ms\u001b[0m\u001b[1;33m[\u001b[0m\u001b[1;36m0\u001b[0m\u001b[1;33m]\u001b[0m\u001b[1;33m=\u001b[0m\u001b[1;36m100\u001b[0m\u001b[1;33m\u001b[0m\u001b[1;33m\u001b[0m\u001b[0m\n\u001b[0m",
      "\u001b[1;31mTypeError\u001b[0m: 'set' object does not support item assignment"
     ]
    }
   ],
   "source": [
    "muttable:\n",
    "    1)list\n",
    "    2)dict\n",
    "    3)set"
   ]
  },
  {
   "cell_type": "markdown",
   "metadata": {},
   "source": [
    "### if:\n",
    "### if else:\n",
    "### if elif else:"
   ]
  },
  {
   "cell_type": "markdown",
   "metadata": {},
   "source": [
    "## if:"
   ]
  },
  {
   "cell_type": "code",
   "execution_count": 68,
   "metadata": {},
   "outputs": [],
   "source": [
    "a=10"
   ]
  },
  {
   "cell_type": "code",
   "execution_count": 69,
   "metadata": {},
   "outputs": [
    {
     "name": "stdout",
     "output_type": "stream",
     "text": [
      "YES\n"
     ]
    }
   ],
   "source": [
    "if a==10:\n",
    "    print('YES')"
   ]
  },
  {
   "cell_type": "markdown",
   "metadata": {},
   "source": [
    "##### syntax\n",
    "\n",
    "    if condition:\n",
    "    <------>statements"
   ]
  },
  {
   "cell_type": "code",
   "execution_count": 70,
   "metadata": {},
   "outputs": [
    {
     "ename": "SyntaxError",
     "evalue": "invalid syntax (<ipython-input-70-127aeee2b6e3>, line 1)",
     "output_type": "error",
     "traceback": [
      "\u001b[1;36m  File \u001b[1;32m\"<ipython-input-70-127aeee2b6e3>\"\u001b[1;36m, line \u001b[1;32m1\u001b[0m\n\u001b[1;33m    here statements are nothing but the valid python codes\u001b[0m\n\u001b[1;37m         ^\u001b[0m\n\u001b[1;31mSyntaxError\u001b[0m\u001b[1;31m:\u001b[0m invalid syntax\n"
     ]
    }
   ],
   "source": [
    "here statements are nothing but the valid python codes\n",
    "     and condition should be bool i.e. True or False"
   ]
  },
  {
   "cell_type": "code",
   "execution_count": 72,
   "metadata": {},
   "outputs": [
    {
     "name": "stdout",
     "output_type": "stream",
     "text": [
      "Enter your age:4\n",
      "No\n"
     ]
    }
   ],
   "source": [
    "a=int(input('Enter your age:'))\n",
    "if a>=18:\n",
    "    print('Yes')\n",
    "else:\n",
    "    print('No')"
   ]
  },
  {
   "cell_type": "code",
   "execution_count": 74,
   "metadata": {},
   "outputs": [
    {
     "name": "stdout",
     "output_type": "stream",
     "text": [
      "Enter your age:45\n",
      "You are uncle\n"
     ]
    }
   ],
   "source": [
    "age=int(input('Enter your age:'))\n",
    "if age<=10:\n",
    "    print('You are kid')\n",
    "elif age>10 and age<=18:\n",
    "    print('You are Teen')\n",
    "elif age>18 and age<=21:\n",
    "    print('You are younger')\n",
    "elif age<21 and age <=35:\n",
    "    print('You can marry')\n",
    "elif age>35 and age<=56:\n",
    "    print('You are uncle')\n",
    "elif age>56:\n",
    "    print('you are old')\n",
    "else:\n",
    "    print('Are you alien?')"
   ]
  },
  {
   "cell_type": "markdown",
   "metadata": {},
   "source": [
    "### Loops:"
   ]
  },
  {
   "cell_type": "code",
   "execution_count": null,
   "metadata": {},
   "outputs": [],
   "source": [
    "1)For loop\n",
    "syntax:\n",
    "    for variable in iterable:\n",
    "    <---->satements"
   ]
  },
  {
   "cell_type": "code",
   "execution_count": 75,
   "metadata": {},
   "outputs": [
    {
     "name": "stdout",
     "output_type": "stream",
     "text": [
      "a\n",
      "r\n",
      "u\n",
      "n\n"
     ]
    }
   ],
   "source": [
    "for i in 'arun':\n",
    "    print(i)"
   ]
  },
  {
   "cell_type": "code",
   "execution_count": 76,
   "metadata": {},
   "outputs": [
    {
     "name": "stdout",
     "output_type": "stream",
     "text": [
      "1\n",
      "2\n",
      "3\n",
      "4\n",
      "5\n",
      "6\n",
      "7\n",
      "8\n",
      "9\n"
     ]
    }
   ],
   "source": [
    "for a in [1,2,3,4,5,6,7,8,9]:\n",
    "    print(a)"
   ]
  },
  {
   "cell_type": "markdown",
   "metadata": {},
   "source": [
    "## Iterable:\n",
    "    is nothing but which we can loop over\n",
    "    ex:\n",
    "    str\n",
    "    list\n",
    "    tuple\n",
    "    dictionary\n",
    "    set"
   ]
  },
  {
   "cell_type": "markdown",
   "metadata": {},
   "source": [
    "## Non-iterable:\n",
    "1)float\n",
    "2)int\n",
    "3)bool\n",
    "4)None"
   ]
  },
  {
   "cell_type": "code",
   "execution_count": 77,
   "metadata": {},
   "outputs": [],
   "source": [
    "a=['arun','kumar']"
   ]
  },
  {
   "cell_type": "code",
   "execution_count": 81,
   "metadata": {},
   "outputs": [
    {
     "name": "stdout",
     "output_type": "stream",
     "text": [
      "aaaaa\n",
      "rrrrr\n",
      "uuuuu\n",
      "nnnnn\n",
      "kkkkk\n",
      "uuuuu\n",
      "mmmmm\n",
      "aaaaa\n",
      "rrrrr\n"
     ]
    }
   ],
   "source": [
    "for i in a:\n",
    "    for j in i:\n",
    "        print(j*5)"
   ]
  },
  {
   "cell_type": "code",
   "execution_count": 91,
   "metadata": {},
   "outputs": [
    {
     "name": "stdout",
     "output_type": "stream",
     "text": [
      "100\n",
      "999\n"
     ]
    }
   ],
   "source": [
    "x = input()\n",
    "y = input()\n",
    "# Write your code here\n",
    "a=int(x)\n",
    "b=int(y)\n",
    "for i in range(a,b+1):\n",
    "\tsum=0\n",
    "\tc=str(i)\n",
    "\tfor j in c:\n",
    "\t\td=int(j)\n",
    "\t\tsum+=d\n",
    "\tif sum==c:\n",
    "\t\tprint(sum)\n",
    "\telse:\n",
    "\t\tpass"
   ]
  },
  {
   "cell_type": "code",
   "execution_count": 92,
   "metadata": {},
   "outputs": [
    {
     "name": "stdout",
     "output_type": "stream",
     "text": [
      "100\n",
      "999\n"
     ]
    }
   ],
   "source": [
    "x = input()\n",
    "y = input()\n",
    "# Write your code here"
   ]
  },
  {
   "cell_type": "code",
   "execution_count": 124,
   "metadata": {},
   "outputs": [],
   "source": [
    "a=int(x)\n",
    "b=int(y)"
   ]
  },
  {
   "cell_type": "code",
   "execution_count": 125,
   "metadata": {},
   "outputs": [
    {
     "data": {
      "text/plain": [
       "100"
      ]
     },
     "execution_count": 125,
     "metadata": {},
     "output_type": "execute_result"
    }
   ],
   "source": [
    "a"
   ]
  },
  {
   "cell_type": "code",
   "execution_count": 126,
   "metadata": {},
   "outputs": [
    {
     "data": {
      "text/plain": [
       "999"
      ]
     },
     "execution_count": 126,
     "metadata": {},
     "output_type": "execute_result"
    }
   ],
   "source": [
    "b"
   ]
  },
  {
   "cell_type": "code",
   "execution_count": 140,
   "metadata": {},
   "outputs": [],
   "source": [
    "a=233"
   ]
  },
  {
   "cell_type": "code",
   "execution_count": 141,
   "metadata": {},
   "outputs": [],
   "source": [
    "b=str(a)"
   ]
  },
  {
   "cell_type": "code",
   "execution_count": 142,
   "metadata": {},
   "outputs": [
    {
     "data": {
      "text/plain": [
       "'233'"
      ]
     },
     "execution_count": 142,
     "metadata": {},
     "output_type": "execute_result"
    }
   ],
   "source": [
    "b"
   ]
  },
  {
   "cell_type": "code",
   "execution_count": 143,
   "metadata": {},
   "outputs": [],
   "source": [
    "sum=0"
   ]
  },
  {
   "cell_type": "code",
   "execution_count": 144,
   "metadata": {},
   "outputs": [],
   "source": [
    "for i in b:\n",
    "    c=int(i)\n",
    "    d=c**3\n",
    "    sum+=d"
   ]
  },
  {
   "cell_type": "code",
   "execution_count": 145,
   "metadata": {},
   "outputs": [
    {
     "data": {
      "text/plain": [
       "62"
      ]
     },
     "execution_count": 145,
     "metadata": {},
     "output_type": "execute_result"
    }
   ],
   "source": [
    "sum"
   ]
  },
  {
   "cell_type": "code",
   "execution_count": 146,
   "metadata": {},
   "outputs": [
    {
     "data": {
      "text/plain": [
       "8"
      ]
     },
     "execution_count": 146,
     "metadata": {},
     "output_type": "execute_result"
    }
   ],
   "source": [
    "2**3"
   ]
  },
  {
   "cell_type": "code",
   "execution_count": 147,
   "metadata": {},
   "outputs": [
    {
     "data": {
      "text/plain": [
       "27"
      ]
     },
     "execution_count": 147,
     "metadata": {},
     "output_type": "execute_result"
    }
   ],
   "source": [
    "3**3"
   ]
  },
  {
   "cell_type": "code",
   "execution_count": 148,
   "metadata": {},
   "outputs": [
    {
     "data": {
      "text/plain": [
       "27"
      ]
     },
     "execution_count": 148,
     "metadata": {},
     "output_type": "execute_result"
    }
   ],
   "source": [
    "3**3"
   ]
  },
  {
   "cell_type": "code",
   "execution_count": 149,
   "metadata": {},
   "outputs": [
    {
     "data": {
      "text/plain": [
       "62"
      ]
     },
     "execution_count": 149,
     "metadata": {},
     "output_type": "execute_result"
    }
   ],
   "source": [
    "8+27+27"
   ]
  },
  {
   "cell_type": "code",
   "execution_count": 150,
   "metadata": {},
   "outputs": [
    {
     "name": "stdout",
     "output_type": "stream",
     "text": [
      "100\n",
      "999\n"
     ]
    }
   ],
   "source": [
    "x = input()\n",
    "y = input()\n",
    "# Write your code here"
   ]
  },
  {
   "cell_type": "code",
   "execution_count": 152,
   "metadata": {},
   "outputs": [
    {
     "name": "stdout",
     "output_type": "stream",
     "text": [
      "100\n",
      "999\n"
     ]
    }
   ],
   "source": [
    "print(x)\n",
    "print(y)"
   ]
  },
  {
   "cell_type": "code",
   "execution_count": 153,
   "metadata": {},
   "outputs": [
    {
     "data": {
      "text/plain": [
       "str"
      ]
     },
     "execution_count": 153,
     "metadata": {},
     "output_type": "execute_result"
    }
   ],
   "source": [
    "type(x)"
   ]
  },
  {
   "cell_type": "code",
   "execution_count": 154,
   "metadata": {},
   "outputs": [],
   "source": [
    "a=int(x)\n",
    "b=int(y)"
   ]
  },
  {
   "cell_type": "code",
   "execution_count": 155,
   "metadata": {},
   "outputs": [
    {
     "data": {
      "text/plain": [
       "int"
      ]
     },
     "execution_count": 155,
     "metadata": {},
     "output_type": "execute_result"
    }
   ],
   "source": [
    "type(a)"
   ]
  },
  {
   "cell_type": "code",
   "execution_count": 156,
   "metadata": {},
   "outputs": [
    {
     "data": {
      "text/plain": [
       "int"
      ]
     },
     "execution_count": 156,
     "metadata": {},
     "output_type": "execute_result"
    }
   ],
   "source": [
    "type(b)"
   ]
  },
  {
   "cell_type": "code",
   "execution_count": 160,
   "metadata": {},
   "outputs": [
    {
     "name": "stdout",
     "output_type": "stream",
     "text": [
      "1\n",
      "2\n",
      "9\n",
      "28\n",
      "65\n",
      "126\n",
      "217\n",
      "344\n",
      "513\n",
      "730\n",
      "2\n",
      "3\n",
      "10\n",
      "29\n",
      "66\n",
      "127\n",
      "218\n",
      "345\n",
      "514\n",
      "731\n",
      "9\n",
      "10\n",
      "17\n",
      "36\n",
      "73\n",
      "134\n",
      "225\n",
      "352\n",
      "521\n",
      "738\n",
      "28\n",
      "29\n",
      "36\n",
      "55\n",
      "92\n",
      "153\n",
      "244\n",
      "371\n",
      "540\n",
      "757\n",
      "65\n",
      "66\n",
      "73\n",
      "92\n",
      "129\n",
      "190\n",
      "281\n",
      "408\n",
      "577\n",
      "794\n",
      "126\n",
      "127\n",
      "134\n",
      "153\n",
      "190\n",
      "251\n",
      "342\n",
      "469\n",
      "638\n",
      "855\n",
      "217\n",
      "218\n",
      "225\n",
      "244\n",
      "281\n",
      "342\n",
      "433\n",
      "560\n",
      "729\n",
      "946\n",
      "344\n",
      "345\n",
      "352\n",
      "371\n",
      "408\n",
      "469\n",
      "560\n",
      "687\n",
      "856\n",
      "1073\n",
      "513\n",
      "514\n",
      "521\n",
      "540\n",
      "577\n",
      "638\n",
      "729\n",
      "856\n",
      "1025\n",
      "1242\n",
      "730\n",
      "731\n",
      "738\n",
      "757\n",
      "794\n",
      "855\n",
      "946\n",
      "1073\n",
      "1242\n",
      "1459\n",
      "8\n",
      "9\n",
      "16\n",
      "35\n",
      "72\n",
      "133\n",
      "224\n",
      "351\n",
      "520\n",
      "737\n",
      "9\n",
      "10\n",
      "17\n",
      "36\n",
      "73\n",
      "134\n",
      "225\n",
      "352\n",
      "521\n",
      "738\n",
      "16\n",
      "17\n",
      "24\n",
      "43\n",
      "80\n",
      "141\n",
      "232\n",
      "359\n",
      "528\n",
      "745\n",
      "35\n",
      "36\n",
      "43\n",
      "62\n",
      "99\n",
      "160\n",
      "251\n",
      "378\n",
      "547\n",
      "764\n",
      "72\n",
      "73\n",
      "80\n",
      "99\n",
      "136\n",
      "197\n",
      "288\n",
      "415\n",
      "584\n",
      "801\n",
      "133\n",
      "134\n",
      "141\n",
      "160\n",
      "197\n",
      "258\n",
      "349\n",
      "476\n",
      "645\n",
      "862\n",
      "224\n",
      "225\n",
      "232\n",
      "251\n",
      "288\n",
      "349\n",
      "440\n",
      "567\n",
      "736\n",
      "953\n",
      "351\n",
      "352\n",
      "359\n",
      "378\n",
      "415\n",
      "476\n",
      "567\n",
      "694\n",
      "863\n",
      "1080\n",
      "520\n",
      "521\n",
      "528\n",
      "547\n",
      "584\n",
      "645\n",
      "736\n",
      "863\n",
      "1032\n",
      "1249\n",
      "737\n",
      "738\n",
      "745\n",
      "764\n",
      "801\n",
      "862\n",
      "953\n",
      "1080\n",
      "1249\n",
      "1466\n",
      "27\n",
      "28\n",
      "35\n",
      "54\n",
      "91\n",
      "152\n",
      "243\n",
      "370\n",
      "539\n",
      "756\n",
      "28\n",
      "29\n",
      "36\n",
      "55\n",
      "92\n",
      "153\n",
      "244\n",
      "371\n",
      "540\n",
      "757\n",
      "35\n",
      "36\n",
      "43\n",
      "62\n",
      "99\n",
      "160\n",
      "251\n",
      "378\n",
      "547\n",
      "764\n",
      "54\n",
      "55\n",
      "62\n",
      "81\n",
      "118\n",
      "179\n",
      "270\n",
      "397\n",
      "566\n",
      "783\n",
      "91\n",
      "92\n",
      "99\n",
      "118\n",
      "155\n",
      "216\n",
      "307\n",
      "434\n",
      "603\n",
      "820\n",
      "152\n",
      "153\n",
      "160\n",
      "179\n",
      "216\n",
      "277\n",
      "368\n",
      "495\n",
      "664\n",
      "881\n",
      "243\n",
      "244\n",
      "251\n",
      "270\n",
      "307\n",
      "368\n",
      "459\n",
      "586\n",
      "755\n",
      "972\n",
      "370\n",
      "371\n",
      "378\n",
      "397\n",
      "434\n",
      "495\n",
      "586\n",
      "713\n",
      "882\n",
      "1099\n",
      "539\n",
      "540\n",
      "547\n",
      "566\n",
      "603\n",
      "664\n",
      "755\n",
      "882\n",
      "1051\n",
      "1268\n",
      "756\n",
      "757\n",
      "764\n",
      "783\n",
      "820\n",
      "881\n",
      "972\n",
      "1099\n",
      "1268\n",
      "1485\n",
      "64\n",
      "65\n",
      "72\n",
      "91\n",
      "128\n",
      "189\n",
      "280\n",
      "407\n",
      "576\n",
      "793\n",
      "65\n",
      "66\n",
      "73\n",
      "92\n",
      "129\n",
      "190\n",
      "281\n",
      "408\n",
      "577\n",
      "794\n",
      "72\n",
      "73\n",
      "80\n",
      "99\n",
      "136\n",
      "197\n",
      "288\n",
      "415\n",
      "584\n",
      "801\n",
      "91\n",
      "92\n",
      "99\n",
      "118\n",
      "155\n",
      "216\n",
      "307\n",
      "434\n",
      "603\n",
      "820\n",
      "128\n",
      "129\n",
      "136\n",
      "155\n",
      "192\n",
      "253\n",
      "344\n",
      "471\n",
      "640\n",
      "857\n",
      "189\n",
      "190\n",
      "197\n",
      "216\n",
      "253\n",
      "314\n",
      "405\n",
      "532\n",
      "701\n",
      "918\n",
      "280\n",
      "281\n",
      "288\n",
      "307\n",
      "344\n",
      "405\n",
      "496\n",
      "623\n",
      "792\n",
      "1009\n",
      "407\n",
      "408\n",
      "415\n",
      "434\n",
      "471\n",
      "532\n",
      "623\n",
      "750\n",
      "919\n",
      "1136\n",
      "576\n",
      "577\n",
      "584\n",
      "603\n",
      "640\n",
      "701\n",
      "792\n",
      "919\n",
      "1088\n",
      "1305\n",
      "793\n",
      "794\n",
      "801\n",
      "820\n",
      "857\n",
      "918\n",
      "1009\n",
      "1136\n",
      "1305\n",
      "1522\n",
      "125\n",
      "126\n",
      "133\n",
      "152\n",
      "189\n",
      "250\n",
      "341\n",
      "468\n",
      "637\n",
      "854\n",
      "126\n",
      "127\n",
      "134\n",
      "153\n",
      "190\n",
      "251\n",
      "342\n",
      "469\n",
      "638\n",
      "855\n",
      "133\n",
      "134\n",
      "141\n",
      "160\n",
      "197\n",
      "258\n",
      "349\n",
      "476\n",
      "645\n",
      "862\n",
      "152\n",
      "153\n",
      "160\n",
      "179\n",
      "216\n",
      "277\n",
      "368\n",
      "495\n",
      "664\n",
      "881\n",
      "189\n",
      "190\n",
      "197\n",
      "216\n",
      "253\n",
      "314\n",
      "405\n",
      "532\n",
      "701\n",
      "918\n",
      "250\n",
      "251\n",
      "258\n",
      "277\n",
      "314\n",
      "375\n",
      "466\n",
      "593\n",
      "762\n",
      "979\n",
      "341\n",
      "342\n",
      "349\n",
      "368\n",
      "405\n",
      "466\n",
      "557\n",
      "684\n",
      "853\n",
      "1070\n",
      "468\n",
      "469\n",
      "476\n",
      "495\n",
      "532\n",
      "593\n",
      "684\n",
      "811\n",
      "980\n",
      "1197\n",
      "637\n",
      "638\n",
      "645\n",
      "664\n",
      "701\n",
      "762\n",
      "853\n",
      "980\n",
      "1149\n",
      "1366\n",
      "854\n",
      "855\n",
      "862\n",
      "881\n",
      "918\n",
      "979\n",
      "1070\n",
      "1197\n",
      "1366\n",
      "1583\n",
      "216\n",
      "217\n",
      "224\n",
      "243\n",
      "280\n",
      "341\n",
      "432\n",
      "559\n",
      "728\n",
      "945\n",
      "217\n",
      "218\n",
      "225\n",
      "244\n",
      "281\n",
      "342\n",
      "433\n",
      "560\n",
      "729\n",
      "946\n",
      "224\n",
      "225\n",
      "232\n",
      "251\n",
      "288\n",
      "349\n",
      "440\n",
      "567\n",
      "736\n",
      "953\n",
      "243\n",
      "244\n",
      "251\n",
      "270\n",
      "307\n",
      "368\n",
      "459\n",
      "586\n",
      "755\n",
      "972\n",
      "280\n",
      "281\n",
      "288\n",
      "307\n",
      "344\n",
      "405\n",
      "496\n",
      "623\n",
      "792\n",
      "1009\n",
      "341\n",
      "342\n",
      "349\n",
      "368\n",
      "405\n",
      "466\n",
      "557\n",
      "684\n",
      "853\n",
      "1070\n",
      "432\n",
      "433\n",
      "440\n",
      "459\n",
      "496\n",
      "557\n",
      "648\n",
      "775\n",
      "944\n",
      "1161\n",
      "559\n",
      "560\n",
      "567\n",
      "586\n",
      "623\n",
      "684\n",
      "775\n",
      "902\n",
      "1071\n",
      "1288\n",
      "728\n",
      "729\n",
      "736\n",
      "755\n",
      "792\n",
      "853\n",
      "944\n",
      "1071\n",
      "1240\n",
      "1457\n",
      "945\n",
      "946\n",
      "953\n",
      "972\n",
      "1009\n",
      "1070\n",
      "1161\n",
      "1288\n",
      "1457\n",
      "1674\n",
      "343\n",
      "344\n",
      "351\n",
      "370\n",
      "407\n",
      "468\n",
      "559\n",
      "686\n",
      "855\n",
      "1072\n",
      "344\n",
      "345\n",
      "352\n",
      "371\n",
      "408\n",
      "469\n",
      "560\n",
      "687\n",
      "856\n",
      "1073\n",
      "351\n",
      "352\n",
      "359\n",
      "378\n",
      "415\n",
      "476\n",
      "567\n",
      "694\n",
      "863\n",
      "1080\n",
      "370\n",
      "371\n",
      "378\n",
      "397\n",
      "434\n",
      "495\n",
      "586\n",
      "713\n",
      "882\n",
      "1099\n",
      "407\n",
      "408\n",
      "415\n",
      "434\n",
      "471\n",
      "532\n",
      "623\n",
      "750\n",
      "919\n",
      "1136\n",
      "468\n",
      "469\n",
      "476\n",
      "495\n",
      "532\n",
      "593\n",
      "684\n",
      "811\n",
      "980\n",
      "1197\n",
      "559\n",
      "560\n",
      "567\n",
      "586\n",
      "623\n",
      "684\n",
      "775\n",
      "902\n",
      "1071\n",
      "1288\n",
      "686\n",
      "687\n",
      "694\n",
      "713\n",
      "750\n",
      "811\n",
      "902\n",
      "1029\n",
      "1198\n",
      "1415\n",
      "855\n",
      "856\n",
      "863\n",
      "882\n",
      "919\n",
      "980\n",
      "1071\n",
      "1198\n",
      "1367\n",
      "1584\n",
      "1072\n",
      "1073\n",
      "1080\n",
      "1099\n",
      "1136\n",
      "1197\n",
      "1288\n",
      "1415\n",
      "1584\n",
      "1801\n",
      "512\n",
      "513\n",
      "520\n",
      "539\n",
      "576\n",
      "637\n",
      "728\n",
      "855\n",
      "1024\n",
      "1241\n",
      "513\n",
      "514\n",
      "521\n",
      "540\n",
      "577\n",
      "638\n",
      "729\n",
      "856\n",
      "1025\n",
      "1242\n",
      "520\n",
      "521\n",
      "528\n",
      "547\n",
      "584\n",
      "645\n",
      "736\n",
      "863\n",
      "1032\n",
      "1249\n",
      "539\n",
      "540\n",
      "547\n",
      "566\n",
      "603\n",
      "664\n",
      "755\n",
      "882\n",
      "1051\n",
      "1268\n",
      "576\n",
      "577\n",
      "584\n",
      "603\n",
      "640\n",
      "701\n",
      "792\n",
      "919\n",
      "1088\n",
      "1305\n",
      "637\n",
      "638\n",
      "645\n",
      "664\n",
      "701\n",
      "762\n",
      "853\n",
      "980\n",
      "1149\n",
      "1366\n",
      "728\n",
      "729\n",
      "736\n",
      "755\n",
      "792\n",
      "853\n",
      "944\n",
      "1071\n",
      "1240\n",
      "1457\n",
      "855\n",
      "856\n",
      "863\n",
      "882\n",
      "919\n",
      "980\n",
      "1071\n",
      "1198\n",
      "1367\n",
      "1584\n",
      "1024\n",
      "1025\n",
      "1032\n",
      "1051\n",
      "1088\n",
      "1149\n",
      "1240\n",
      "1367\n",
      "1536\n",
      "1753\n",
      "1241\n",
      "1242\n",
      "1249\n",
      "1268\n",
      "1305\n",
      "1366\n",
      "1457\n",
      "1584\n",
      "1753\n",
      "1970\n",
      "729\n",
      "730\n",
      "737\n",
      "756\n",
      "793\n",
      "854\n",
      "945\n",
      "1072\n",
      "1241\n",
      "1458\n",
      "730\n",
      "731\n",
      "738\n",
      "757\n",
      "794\n",
      "855\n",
      "946\n",
      "1073\n",
      "1242\n",
      "1459\n",
      "737\n",
      "738\n",
      "745\n",
      "764\n",
      "801\n",
      "862\n",
      "953\n",
      "1080\n",
      "1249\n",
      "1466\n",
      "756\n",
      "757\n",
      "764\n",
      "783\n",
      "820\n",
      "881\n",
      "972\n",
      "1099\n",
      "1268\n",
      "1485\n",
      "793\n",
      "794\n",
      "801\n",
      "820\n",
      "857\n",
      "918\n",
      "1009\n",
      "1136\n",
      "1305\n",
      "1522\n",
      "854\n",
      "855\n",
      "862\n",
      "881\n",
      "918\n",
      "979\n",
      "1070\n",
      "1197\n",
      "1366\n",
      "1583\n",
      "945\n",
      "946\n",
      "953\n",
      "972\n",
      "1009\n",
      "1070\n",
      "1161\n",
      "1288\n",
      "1457\n",
      "1674\n",
      "1072\n",
      "1073\n",
      "1080\n",
      "1099\n",
      "1136\n",
      "1197\n",
      "1288\n",
      "1415\n",
      "1584\n",
      "1801\n",
      "1241\n",
      "1242\n",
      "1249\n",
      "1268\n",
      "1305\n",
      "1366\n",
      "1457\n",
      "1584\n",
      "1753\n",
      "1970\n",
      "1458\n",
      "1459\n",
      "1466\n",
      "1485\n",
      "1522\n",
      "1583\n",
      "1674\n",
      "1801\n",
      "1970\n",
      "2187\n"
     ]
    }
   ],
   "source": [
    "for i in range(a,b+1):\n",
    "    c=str(i)\n",
    "    sum=0\n",
    "    for j in c:\n",
    "        d=int(j)\n",
    "        e=d**3\n",
    "        sum+=e\n",
    "    print(sum)\n",
    "    #if sum==i:\n",
    "        #print(i)\n"
   ]
  },
  {
   "cell_type": "code",
   "execution_count": 161,
   "metadata": {},
   "outputs": [
    {
     "data": {
      "text/plain": [
       "2187"
      ]
     },
     "execution_count": 161,
     "metadata": {},
     "output_type": "execute_result"
    }
   ],
   "source": [
    "sum"
   ]
  },
  {
   "cell_type": "code",
   "execution_count": 162,
   "metadata": {},
   "outputs": [
    {
     "data": {
      "text/plain": [
       "81"
      ]
     },
     "execution_count": 162,
     "metadata": {},
     "output_type": "execute_result"
    }
   ],
   "source": [
    "27+27+27"
   ]
  },
  {
   "cell_type": "code",
   "execution_count": 163,
   "metadata": {},
   "outputs": [
    {
     "name": "stdout",
     "output_type": "stream",
     "text": [
      "1\n",
      "2\n",
      "9\n",
      "28\n",
      "65\n",
      "126\n",
      "217\n",
      "344\n",
      "513\n",
      "730\n",
      "2\n",
      "3\n",
      "10\n",
      "29\n",
      "66\n",
      "127\n",
      "218\n",
      "345\n",
      "514\n",
      "731\n",
      "9\n",
      "10\n",
      "17\n",
      "36\n",
      "73\n",
      "134\n",
      "225\n",
      "352\n",
      "521\n",
      "738\n",
      "28\n",
      "29\n",
      "36\n",
      "55\n",
      "92\n",
      "153\n",
      "244\n",
      "371\n",
      "540\n",
      "757\n",
      "65\n",
      "66\n",
      "73\n",
      "92\n",
      "129\n",
      "190\n",
      "281\n",
      "408\n",
      "577\n",
      "794\n",
      "126\n",
      "127\n",
      "134\n",
      "153\n",
      "190\n",
      "251\n",
      "342\n",
      "469\n",
      "638\n",
      "855\n",
      "217\n",
      "218\n",
      "225\n",
      "244\n",
      "281\n",
      "342\n",
      "433\n",
      "560\n",
      "729\n",
      "946\n",
      "344\n",
      "345\n",
      "352\n",
      "371\n",
      "408\n",
      "469\n",
      "560\n",
      "687\n",
      "856\n",
      "1073\n",
      "513\n",
      "514\n",
      "521\n",
      "540\n",
      "577\n",
      "638\n",
      "729\n",
      "856\n",
      "1025\n",
      "1242\n",
      "730\n",
      "731\n",
      "738\n",
      "757\n",
      "794\n",
      "855\n",
      "946\n",
      "1073\n",
      "1242\n",
      "1459\n",
      "8\n",
      "9\n",
      "16\n",
      "35\n",
      "72\n",
      "133\n",
      "224\n",
      "351\n",
      "520\n",
      "737\n",
      "9\n",
      "10\n",
      "17\n",
      "36\n",
      "73\n",
      "134\n",
      "225\n",
      "352\n",
      "521\n",
      "738\n",
      "16\n",
      "17\n",
      "24\n",
      "43\n",
      "80\n",
      "141\n",
      "232\n",
      "359\n",
      "528\n",
      "745\n",
      "35\n",
      "36\n",
      "43\n",
      "62\n",
      "99\n",
      "160\n",
      "251\n",
      "378\n",
      "547\n",
      "764\n",
      "72\n",
      "73\n",
      "80\n",
      "99\n",
      "136\n",
      "197\n",
      "288\n",
      "415\n",
      "584\n",
      "801\n",
      "133\n",
      "134\n",
      "141\n",
      "160\n",
      "197\n",
      "258\n",
      "349\n",
      "476\n",
      "645\n",
      "862\n",
      "224\n",
      "225\n",
      "232\n",
      "251\n",
      "288\n",
      "349\n",
      "440\n",
      "567\n",
      "736\n",
      "953\n",
      "351\n",
      "352\n",
      "359\n",
      "378\n",
      "415\n",
      "476\n",
      "567\n",
      "694\n",
      "863\n",
      "1080\n",
      "520\n",
      "521\n",
      "528\n",
      "547\n",
      "584\n",
      "645\n",
      "736\n",
      "863\n",
      "1032\n",
      "1249\n",
      "737\n",
      "738\n",
      "745\n",
      "764\n",
      "801\n",
      "862\n",
      "953\n",
      "1080\n",
      "1249\n",
      "1466\n",
      "27\n",
      "28\n",
      "35\n",
      "54\n",
      "91\n",
      "152\n",
      "243\n",
      "370\n",
      "539\n",
      "756\n",
      "28\n",
      "29\n",
      "36\n",
      "55\n",
      "92\n",
      "153\n",
      "244\n",
      "371\n",
      "540\n",
      "757\n",
      "35\n",
      "36\n",
      "43\n",
      "62\n",
      "99\n",
      "160\n",
      "251\n",
      "378\n",
      "547\n",
      "764\n",
      "54\n",
      "55\n",
      "62\n",
      "81\n",
      "118\n",
      "179\n",
      "270\n",
      "397\n",
      "566\n",
      "783\n",
      "91\n",
      "92\n",
      "99\n",
      "118\n",
      "155\n",
      "216\n",
      "307\n",
      "434\n",
      "603\n",
      "820\n",
      "152\n",
      "153\n",
      "160\n",
      "179\n",
      "216\n",
      "277\n",
      "368\n",
      "495\n",
      "664\n",
      "881\n",
      "243\n",
      "244\n",
      "251\n",
      "270\n",
      "307\n",
      "368\n",
      "459\n",
      "586\n",
      "755\n",
      "972\n",
      "370\n",
      "371\n",
      "378\n",
      "397\n",
      "434\n",
      "495\n",
      "586\n",
      "713\n",
      "882\n",
      "1099\n",
      "539\n",
      "540\n",
      "547\n",
      "566\n",
      "603\n",
      "664\n",
      "755\n",
      "882\n",
      "1051\n",
      "1268\n",
      "756\n",
      "757\n",
      "764\n",
      "783\n",
      "820\n",
      "881\n",
      "972\n",
      "1099\n",
      "1268\n",
      "1485\n",
      "64\n",
      "65\n",
      "72\n",
      "91\n",
      "128\n",
      "189\n",
      "280\n",
      "407\n",
      "576\n",
      "793\n",
      "65\n",
      "66\n",
      "73\n",
      "92\n",
      "129\n",
      "190\n",
      "281\n",
      "408\n",
      "577\n",
      "794\n",
      "72\n",
      "73\n",
      "80\n",
      "99\n",
      "136\n",
      "197\n",
      "288\n",
      "415\n",
      "584\n",
      "801\n",
      "91\n",
      "92\n",
      "99\n",
      "118\n",
      "155\n",
      "216\n",
      "307\n",
      "434\n",
      "603\n",
      "820\n",
      "128\n",
      "129\n",
      "136\n",
      "155\n",
      "192\n",
      "253\n",
      "344\n",
      "471\n",
      "640\n",
      "857\n",
      "189\n",
      "190\n",
      "197\n",
      "216\n",
      "253\n",
      "314\n",
      "405\n",
      "532\n",
      "701\n",
      "918\n",
      "280\n",
      "281\n",
      "288\n",
      "307\n",
      "344\n",
      "405\n",
      "496\n",
      "623\n",
      "792\n",
      "1009\n",
      "407\n",
      "408\n",
      "415\n",
      "434\n",
      "471\n",
      "532\n",
      "623\n",
      "750\n",
      "919\n",
      "1136\n",
      "576\n",
      "577\n",
      "584\n",
      "603\n",
      "640\n",
      "701\n",
      "792\n",
      "919\n",
      "1088\n",
      "1305\n",
      "793\n",
      "794\n",
      "801\n",
      "820\n",
      "857\n",
      "918\n",
      "1009\n",
      "1136\n",
      "1305\n",
      "1522\n",
      "125\n",
      "126\n",
      "133\n",
      "152\n",
      "189\n",
      "250\n",
      "341\n",
      "468\n",
      "637\n",
      "854\n",
      "126\n",
      "127\n",
      "134\n",
      "153\n",
      "190\n",
      "251\n",
      "342\n",
      "469\n",
      "638\n",
      "855\n",
      "133\n",
      "134\n",
      "141\n",
      "160\n",
      "197\n",
      "258\n",
      "349\n",
      "476\n",
      "645\n",
      "862\n",
      "152\n",
      "153\n",
      "160\n",
      "179\n",
      "216\n",
      "277\n",
      "368\n",
      "495\n",
      "664\n",
      "881\n",
      "189\n",
      "190\n",
      "197\n",
      "216\n",
      "253\n",
      "314\n",
      "405\n",
      "532\n",
      "701\n",
      "918\n",
      "250\n",
      "251\n",
      "258\n",
      "277\n",
      "314\n",
      "375\n",
      "466\n",
      "593\n",
      "762\n",
      "979\n",
      "341\n",
      "342\n",
      "349\n",
      "368\n",
      "405\n",
      "466\n",
      "557\n",
      "684\n",
      "853\n",
      "1070\n",
      "468\n",
      "469\n",
      "476\n",
      "495\n",
      "532\n",
      "593\n",
      "684\n",
      "811\n",
      "980\n",
      "1197\n",
      "637\n",
      "638\n",
      "645\n",
      "664\n",
      "701\n",
      "762\n",
      "853\n",
      "980\n",
      "1149\n",
      "1366\n",
      "854\n",
      "855\n",
      "862\n",
      "881\n",
      "918\n",
      "979\n",
      "1070\n",
      "1197\n",
      "1366\n",
      "1583\n",
      "216\n",
      "217\n",
      "224\n",
      "243\n",
      "280\n",
      "341\n",
      "432\n",
      "559\n",
      "728\n",
      "945\n",
      "217\n",
      "218\n",
      "225\n",
      "244\n",
      "281\n",
      "342\n",
      "433\n",
      "560\n",
      "729\n",
      "946\n",
      "224\n",
      "225\n",
      "232\n",
      "251\n",
      "288\n",
      "349\n",
      "440\n",
      "567\n",
      "736\n",
      "953\n",
      "243\n",
      "244\n",
      "251\n",
      "270\n",
      "307\n",
      "368\n",
      "459\n",
      "586\n",
      "755\n",
      "972\n",
      "280\n",
      "281\n",
      "288\n",
      "307\n",
      "344\n",
      "405\n",
      "496\n",
      "623\n",
      "792\n",
      "1009\n",
      "341\n",
      "342\n",
      "349\n",
      "368\n",
      "405\n",
      "466\n",
      "557\n",
      "684\n",
      "853\n",
      "1070\n",
      "432\n",
      "433\n",
      "440\n",
      "459\n",
      "496\n",
      "557\n",
      "648\n",
      "775\n",
      "944\n",
      "1161\n",
      "559\n",
      "560\n",
      "567\n",
      "586\n",
      "623\n",
      "684\n",
      "775\n",
      "902\n",
      "1071\n",
      "1288\n",
      "728\n",
      "729\n",
      "736\n",
      "755\n",
      "792\n",
      "853\n",
      "944\n",
      "1071\n",
      "1240\n",
      "1457\n",
      "945\n",
      "946\n",
      "953\n",
      "972\n",
      "1009\n",
      "1070\n",
      "1161\n",
      "1288\n",
      "1457\n",
      "1674\n",
      "343\n",
      "344\n",
      "351\n",
      "370\n",
      "407\n",
      "468\n",
      "559\n",
      "686\n",
      "855\n",
      "1072\n",
      "344\n",
      "345\n",
      "352\n",
      "371\n",
      "408\n",
      "469\n",
      "560\n",
      "687\n",
      "856\n",
      "1073\n",
      "351\n",
      "352\n",
      "359\n",
      "378\n",
      "415\n",
      "476\n",
      "567\n",
      "694\n",
      "863\n",
      "1080\n",
      "370\n",
      "371\n",
      "378\n",
      "397\n",
      "434\n",
      "495\n",
      "586\n",
      "713\n",
      "882\n",
      "1099\n",
      "407\n",
      "408\n",
      "415\n",
      "434\n",
      "471\n",
      "532\n",
      "623\n",
      "750\n",
      "919\n",
      "1136\n",
      "468\n",
      "469\n",
      "476\n",
      "495\n",
      "532\n",
      "593\n",
      "684\n",
      "811\n",
      "980\n",
      "1197\n",
      "559\n",
      "560\n",
      "567\n",
      "586\n",
      "623\n",
      "684\n",
      "775\n",
      "902\n",
      "1071\n",
      "1288\n",
      "686\n",
      "687\n",
      "694\n",
      "713\n",
      "750\n",
      "811\n",
      "902\n",
      "1029\n",
      "1198\n",
      "1415\n",
      "855\n",
      "856\n",
      "863\n",
      "882\n",
      "919\n",
      "980\n",
      "1071\n",
      "1198\n",
      "1367\n",
      "1584\n",
      "1072\n",
      "1073\n",
      "1080\n",
      "1099\n",
      "1136\n",
      "1197\n",
      "1288\n",
      "1415\n",
      "1584\n",
      "1801\n",
      "512\n",
      "513\n",
      "520\n",
      "539\n",
      "576\n",
      "637\n",
      "728\n",
      "855\n",
      "1024\n",
      "1241\n",
      "513\n",
      "514\n",
      "521\n",
      "540\n",
      "577\n",
      "638\n",
      "729\n",
      "856\n",
      "1025\n",
      "1242\n",
      "520\n",
      "521\n",
      "528\n",
      "547\n",
      "584\n",
      "645\n",
      "736\n",
      "863\n",
      "1032\n",
      "1249\n",
      "539\n",
      "540\n",
      "547\n",
      "566\n",
      "603\n",
      "664\n",
      "755\n",
      "882\n",
      "1051\n",
      "1268\n",
      "576\n",
      "577\n",
      "584\n",
      "603\n",
      "640\n",
      "701\n",
      "792\n",
      "919\n",
      "1088\n",
      "1305\n",
      "637\n",
      "638\n",
      "645\n",
      "664\n",
      "701\n",
      "762\n",
      "853\n",
      "980\n",
      "1149\n",
      "1366\n",
      "728\n",
      "729\n",
      "736\n",
      "755\n",
      "792\n",
      "853\n",
      "944\n",
      "1071\n",
      "1240\n",
      "1457\n",
      "855\n",
      "856\n",
      "863\n",
      "882\n",
      "919\n",
      "980\n",
      "1071\n",
      "1198\n",
      "1367\n",
      "1584\n",
      "1024\n",
      "1025\n",
      "1032\n",
      "1051\n",
      "1088\n",
      "1149\n",
      "1240\n",
      "1367\n",
      "1536\n",
      "1753\n",
      "1241\n",
      "1242\n",
      "1249\n",
      "1268\n",
      "1305\n",
      "1366\n",
      "1457\n",
      "1584\n",
      "1753\n",
      "1970\n",
      "729\n",
      "730\n",
      "737\n",
      "756\n",
      "793\n",
      "854\n",
      "945\n",
      "1072\n",
      "1241\n",
      "1458\n",
      "730\n",
      "731\n",
      "738\n",
      "757\n",
      "794\n",
      "855\n",
      "946\n",
      "1073\n",
      "1242\n",
      "1459\n",
      "737\n",
      "738\n",
      "745\n",
      "764\n",
      "801\n",
      "862\n",
      "953\n",
      "1080\n",
      "1249\n",
      "1466\n",
      "756\n",
      "757\n",
      "764\n",
      "783\n",
      "820\n",
      "881\n",
      "972\n",
      "1099\n",
      "1268\n",
      "1485\n",
      "793\n",
      "794\n",
      "801\n",
      "820\n",
      "857\n",
      "918\n",
      "1009\n",
      "1136\n",
      "1305\n",
      "1522\n",
      "854\n",
      "855\n",
      "862\n",
      "881\n",
      "918\n",
      "979\n",
      "1070\n",
      "1197\n",
      "1366\n",
      "1583\n",
      "945\n",
      "946\n",
      "953\n",
      "972\n",
      "1009\n",
      "1070\n",
      "1161\n",
      "1288\n",
      "1457\n",
      "1674\n",
      "1072\n",
      "1073\n",
      "1080\n",
      "1099\n",
      "1136\n",
      "1197\n",
      "1288\n",
      "1415\n",
      "1584\n",
      "1801\n",
      "1241\n",
      "1242\n",
      "1249\n",
      "1268\n",
      "1305\n",
      "1366\n",
      "1457\n",
      "1584\n",
      "1753\n",
      "1970\n",
      "1458\n",
      "1459\n",
      "1466\n",
      "1485\n",
      "1522\n",
      "1583\n",
      "1674\n",
      "1801\n",
      "1970\n",
      "2187\n"
     ]
    }
   ],
   "source": [
    "for i in range(a,b+1):\n",
    "    c=str(i)\n",
    "    sum=0\n",
    "    for j in c:\n",
    "        d=int(j)\n",
    "        e=d**3\n",
    "        sum+=e\n",
    "    print(sum)\n",
    "    #if sum==i:\n",
    "        #print(i)"
   ]
  },
  {
   "cell_type": "code",
   "execution_count": 164,
   "metadata": {},
   "outputs": [
    {
     "name": "stdout",
     "output_type": "stream",
     "text": [
      "0\n",
      "1\n",
      "8\n",
      "27\n",
      "64\n",
      "125\n",
      "216\n",
      "343\n",
      "512\n",
      "729\n",
      "0\n",
      "1\n",
      "8\n",
      "27\n",
      "64\n",
      "125\n",
      "216\n",
      "343\n",
      "512\n",
      "729\n",
      "0\n",
      "1\n",
      "8\n",
      "27\n",
      "64\n",
      "125\n",
      "216\n",
      "343\n",
      "512\n",
      "729\n",
      "0\n",
      "1\n",
      "8\n",
      "27\n",
      "64\n",
      "125\n",
      "216\n",
      "343\n",
      "512\n",
      "729\n",
      "0\n",
      "1\n",
      "8\n",
      "27\n",
      "64\n",
      "125\n",
      "216\n",
      "343\n",
      "512\n",
      "729\n",
      "0\n",
      "1\n",
      "8\n",
      "27\n",
      "64\n",
      "125\n",
      "216\n",
      "343\n",
      "512\n",
      "729\n",
      "0\n",
      "1\n",
      "8\n",
      "27\n",
      "64\n",
      "125\n",
      "216\n",
      "343\n",
      "512\n",
      "729\n",
      "0\n",
      "1\n",
      "8\n",
      "27\n",
      "64\n",
      "125\n",
      "216\n",
      "343\n",
      "512\n",
      "729\n",
      "0\n",
      "1\n",
      "8\n",
      "27\n",
      "64\n",
      "125\n",
      "216\n",
      "343\n",
      "512\n",
      "729\n",
      "0\n",
      "1\n",
      "8\n",
      "27\n",
      "64\n",
      "125\n",
      "216\n",
      "343\n",
      "512\n",
      "729\n",
      "0\n",
      "1\n",
      "8\n",
      "27\n",
      "64\n",
      "125\n",
      "216\n",
      "343\n",
      "512\n",
      "729\n",
      "0\n",
      "1\n",
      "8\n",
      "27\n",
      "64\n",
      "125\n",
      "216\n",
      "343\n",
      "512\n",
      "729\n",
      "0\n",
      "1\n",
      "8\n",
      "27\n",
      "64\n",
      "125\n",
      "216\n",
      "343\n",
      "512\n",
      "729\n",
      "0\n",
      "1\n",
      "8\n",
      "27\n",
      "64\n",
      "125\n",
      "216\n",
      "343\n",
      "512\n",
      "729\n",
      "0\n",
      "1\n",
      "8\n",
      "27\n",
      "64\n",
      "125\n",
      "216\n",
      "343\n",
      "512\n",
      "729\n",
      "0\n",
      "1\n",
      "8\n",
      "27\n",
      "64\n",
      "125\n",
      "216\n",
      "343\n",
      "512\n",
      "729\n",
      "0\n",
      "1\n",
      "8\n",
      "27\n",
      "64\n",
      "125\n",
      "216\n",
      "343\n",
      "512\n",
      "729\n",
      "0\n",
      "1\n",
      "8\n",
      "27\n",
      "64\n",
      "125\n",
      "216\n",
      "343\n",
      "512\n",
      "729\n",
      "0\n",
      "1\n",
      "8\n",
      "27\n",
      "64\n",
      "125\n",
      "216\n",
      "343\n",
      "512\n",
      "729\n",
      "0\n",
      "1\n",
      "8\n",
      "27\n",
      "64\n",
      "125\n",
      "216\n",
      "343\n",
      "512\n",
      "729\n",
      "0\n",
      "1\n",
      "8\n",
      "27\n",
      "64\n",
      "125\n",
      "216\n",
      "343\n",
      "512\n",
      "729\n",
      "0\n",
      "1\n",
      "8\n",
      "27\n",
      "64\n",
      "125\n",
      "216\n",
      "343\n",
      "512\n",
      "729\n",
      "0\n",
      "1\n",
      "8\n",
      "27\n",
      "64\n",
      "125\n",
      "216\n",
      "343\n",
      "512\n",
      "729\n",
      "0\n",
      "1\n",
      "8\n",
      "27\n",
      "64\n",
      "125\n",
      "216\n",
      "343\n",
      "512\n",
      "729\n",
      "0\n",
      "1\n",
      "8\n",
      "27\n",
      "64\n",
      "125\n",
      "216\n",
      "343\n",
      "512\n",
      "729\n",
      "0\n",
      "1\n",
      "8\n",
      "27\n",
      "64\n",
      "125\n",
      "216\n",
      "343\n",
      "512\n",
      "729\n",
      "0\n",
      "1\n",
      "8\n",
      "27\n",
      "64\n",
      "125\n",
      "216\n",
      "343\n",
      "512\n",
      "729\n",
      "0\n",
      "1\n",
      "8\n",
      "27\n",
      "64\n",
      "125\n",
      "216\n",
      "343\n",
      "512\n",
      "729\n",
      "0\n",
      "1\n",
      "8\n",
      "27\n",
      "64\n",
      "125\n",
      "216\n",
      "343\n",
      "512\n",
      "729\n",
      "0\n",
      "1\n",
      "8\n",
      "27\n",
      "64\n",
      "125\n",
      "216\n",
      "343\n",
      "512\n",
      "729\n",
      "0\n",
      "1\n",
      "8\n",
      "27\n",
      "64\n",
      "125\n",
      "216\n",
      "343\n",
      "512\n",
      "729\n",
      "0\n",
      "1\n",
      "8\n",
      "27\n",
      "64\n",
      "125\n",
      "216\n",
      "343\n",
      "512\n",
      "729\n",
      "0\n",
      "1\n",
      "8\n",
      "27\n",
      "64\n",
      "125\n",
      "216\n",
      "343\n",
      "512\n",
      "729\n",
      "0\n",
      "1\n",
      "8\n",
      "27\n",
      "64\n",
      "125\n",
      "216\n",
      "343\n",
      "512\n",
      "729\n",
      "0\n",
      "1\n",
      "8\n",
      "27\n",
      "64\n",
      "125\n",
      "216\n",
      "343\n",
      "512\n",
      "729\n",
      "0\n",
      "1\n",
      "8\n",
      "27\n",
      "64\n",
      "125\n",
      "216\n",
      "343\n",
      "512\n",
      "729\n",
      "0\n",
      "1\n",
      "8\n",
      "27\n",
      "64\n",
      "125\n",
      "216\n",
      "343\n",
      "512\n",
      "729\n",
      "0\n",
      "1\n",
      "8\n",
      "27\n",
      "64\n",
      "125\n",
      "216\n",
      "343\n",
      "512\n",
      "729\n",
      "0\n",
      "1\n",
      "8\n",
      "27\n",
      "64\n",
      "125\n",
      "216\n",
      "343\n",
      "512\n",
      "729\n",
      "0\n",
      "1\n",
      "8\n",
      "27\n",
      "64\n",
      "125\n",
      "216\n",
      "343\n",
      "512\n",
      "729\n",
      "0\n",
      "1\n",
      "8\n",
      "27\n",
      "64\n",
      "125\n",
      "216\n",
      "343\n",
      "512\n",
      "729\n",
      "0\n",
      "1\n",
      "8\n",
      "27\n",
      "64\n",
      "125\n",
      "216\n",
      "343\n",
      "512\n",
      "729\n",
      "0\n",
      "1\n",
      "8\n",
      "27\n",
      "64\n",
      "125\n",
      "216\n",
      "343\n",
      "512\n",
      "729\n",
      "0\n",
      "1\n",
      "8\n",
      "27\n",
      "64\n",
      "125\n",
      "216\n",
      "343\n",
      "512\n",
      "729\n",
      "0\n",
      "1\n",
      "8\n",
      "27\n",
      "64\n",
      "125\n",
      "216\n",
      "343\n",
      "512\n",
      "729\n",
      "0\n",
      "1\n",
      "8\n",
      "27\n",
      "64\n",
      "125\n",
      "216\n",
      "343\n",
      "512\n",
      "729\n",
      "0\n",
      "1\n",
      "8\n",
      "27\n",
      "64\n",
      "125\n",
      "216\n",
      "343\n",
      "512\n",
      "729\n",
      "0\n",
      "1\n",
      "8\n",
      "27\n",
      "64\n",
      "125\n",
      "216\n",
      "343\n",
      "512\n",
      "729\n",
      "0\n",
      "1\n",
      "8\n",
      "27\n",
      "64\n",
      "125\n",
      "216\n",
      "343\n",
      "512\n",
      "729\n",
      "0\n",
      "1\n",
      "8\n",
      "27\n",
      "64\n",
      "125\n",
      "216\n",
      "343\n",
      "512\n",
      "729\n",
      "0\n",
      "1\n",
      "8\n",
      "27\n",
      "64\n",
      "125\n",
      "216\n",
      "343\n",
      "512\n",
      "729\n",
      "0\n",
      "1\n",
      "8\n",
      "27\n",
      "64\n",
      "125\n",
      "216\n",
      "343\n",
      "512\n",
      "729\n",
      "0\n",
      "1\n",
      "8\n",
      "27\n",
      "64\n",
      "125\n",
      "216\n",
      "343\n",
      "512\n",
      "729\n",
      "0\n",
      "1\n",
      "8\n",
      "27\n",
      "64\n",
      "125\n",
      "216\n",
      "343\n",
      "512\n",
      "729\n",
      "0\n",
      "1\n",
      "8\n",
      "27\n",
      "64\n",
      "125\n",
      "216\n",
      "343\n",
      "512\n",
      "729\n",
      "0\n",
      "1\n",
      "8\n",
      "27\n",
      "64\n",
      "125\n",
      "216\n",
      "343\n",
      "512\n",
      "729\n",
      "0\n",
      "1\n",
      "8\n",
      "27\n",
      "64\n",
      "125\n",
      "216\n",
      "343\n",
      "512\n",
      "729\n",
      "0\n",
      "1\n",
      "8\n",
      "27\n",
      "64\n",
      "125\n",
      "216\n",
      "343\n",
      "512\n",
      "729\n",
      "0\n",
      "1\n",
      "8\n",
      "27\n",
      "64\n",
      "125\n",
      "216\n",
      "343\n",
      "512\n",
      "729\n",
      "0\n",
      "1\n",
      "8\n",
      "27\n",
      "64\n",
      "125\n",
      "216\n",
      "343\n",
      "512\n",
      "729\n",
      "0\n",
      "1\n",
      "8\n",
      "27\n",
      "64\n",
      "125\n",
      "216\n",
      "343\n",
      "512\n",
      "729\n",
      "0\n",
      "1\n",
      "8\n",
      "27\n",
      "64\n",
      "125\n",
      "216\n",
      "343\n",
      "512\n",
      "729\n",
      "0\n",
      "1\n",
      "8\n",
      "27\n",
      "64\n",
      "125\n",
      "216\n",
      "343\n",
      "512\n",
      "729\n",
      "0\n",
      "1\n",
      "8\n",
      "27\n",
      "64\n",
      "125\n",
      "216\n",
      "343\n",
      "512\n",
      "729\n",
      "0\n",
      "1\n",
      "8\n",
      "27\n",
      "64\n",
      "125\n",
      "216\n",
      "343\n",
      "512\n",
      "729\n",
      "0\n",
      "1\n",
      "8\n",
      "27\n",
      "64\n",
      "125\n",
      "216\n",
      "343\n",
      "512\n",
      "729\n",
      "0\n",
      "1\n",
      "8\n",
      "27\n",
      "64\n",
      "125\n",
      "216\n",
      "343\n",
      "512\n",
      "729\n",
      "0\n",
      "1\n",
      "8\n",
      "27\n",
      "64\n",
      "125\n",
      "216\n",
      "343\n",
      "512\n",
      "729\n",
      "0\n",
      "1\n",
      "8\n",
      "27\n",
      "64\n",
      "125\n",
      "216\n",
      "343\n",
      "512\n",
      "729\n",
      "0\n",
      "1\n",
      "8\n",
      "27\n",
      "64\n",
      "125\n",
      "216\n",
      "343\n",
      "512\n",
      "729\n",
      "0\n",
      "1\n",
      "8\n",
      "27\n",
      "64\n",
      "125\n",
      "216\n",
      "343\n",
      "512\n",
      "729\n",
      "0\n",
      "1\n",
      "8\n",
      "27\n",
      "64\n",
      "125\n",
      "216\n",
      "343\n",
      "512\n",
      "729\n",
      "0\n",
      "1\n",
      "8\n",
      "27\n",
      "64\n",
      "125\n",
      "216\n",
      "343\n",
      "512\n",
      "729\n",
      "0\n",
      "1\n",
      "8\n",
      "27\n",
      "64\n",
      "125\n",
      "216\n",
      "343\n",
      "512\n",
      "729\n",
      "0\n",
      "1\n",
      "8\n",
      "27\n",
      "64\n",
      "125\n",
      "216\n",
      "343\n",
      "512\n",
      "729\n",
      "0\n",
      "1\n",
      "8\n",
      "27\n",
      "64\n",
      "125\n",
      "216\n",
      "343\n",
      "512\n",
      "729\n",
      "0\n",
      "1\n",
      "8\n",
      "27\n",
      "64\n",
      "125\n",
      "216\n",
      "343\n",
      "512\n",
      "729\n",
      "0\n",
      "1\n",
      "8\n",
      "27\n",
      "64\n",
      "125\n",
      "216\n",
      "343\n",
      "512\n",
      "729\n",
      "0\n",
      "1\n",
      "8\n",
      "27\n",
      "64\n",
      "125\n",
      "216\n",
      "343\n",
      "512\n",
      "729\n",
      "0\n",
      "1\n",
      "8\n",
      "27\n",
      "64\n",
      "125\n",
      "216\n",
      "343\n",
      "512\n",
      "729\n",
      "0\n",
      "1\n",
      "8\n",
      "27\n",
      "64\n",
      "125\n",
      "216\n",
      "343\n",
      "512\n",
      "729\n",
      "0\n",
      "1\n",
      "8\n",
      "27\n",
      "64\n",
      "125\n",
      "216\n",
      "343\n",
      "512\n",
      "729\n",
      "0\n",
      "1\n",
      "8\n",
      "27\n",
      "64\n",
      "125\n",
      "216\n",
      "343\n",
      "512\n",
      "729\n",
      "0\n",
      "1\n",
      "8\n",
      "27\n",
      "64\n",
      "125\n",
      "216\n",
      "343\n",
      "512\n",
      "729\n",
      "0\n",
      "1\n",
      "8\n",
      "27\n",
      "64\n",
      "125\n",
      "216\n",
      "343\n",
      "512\n",
      "729\n",
      "0\n",
      "1\n",
      "8\n",
      "27\n",
      "64\n",
      "125\n",
      "216\n",
      "343\n",
      "512\n",
      "729\n",
      "0\n",
      "1\n",
      "8\n",
      "27\n",
      "64\n",
      "125\n",
      "216\n",
      "343\n",
      "512\n",
      "729\n",
      "0\n",
      "1\n",
      "8\n",
      "27\n",
      "64\n",
      "125\n",
      "216\n",
      "343\n",
      "512\n",
      "729\n",
      "0\n",
      "1\n",
      "8\n",
      "27\n",
      "64\n",
      "125\n",
      "216\n",
      "343\n",
      "512\n",
      "729\n",
      "0\n",
      "1\n",
      "8\n",
      "27\n",
      "64\n",
      "125\n",
      "216\n",
      "343\n",
      "512\n",
      "729\n"
     ]
    }
   ],
   "source": [
    "for i in range(100,1000):\n",
    "    c=str(i)\n",
    "    for j in c:\n",
    "        sum=0\n",
    "        d=int(j)\n",
    "        e=d**3\n",
    "        sum+=e\n",
    "    print(sum)"
   ]
  },
  {
   "cell_type": "code",
   "execution_count": 172,
   "metadata": {},
   "outputs": [
    {
     "name": "stdout",
     "output_type": "stream",
     "text": [
      "153\n",
      "370\n",
      "371\n",
      "407\n"
     ]
    }
   ],
   "source": [
    "#sum=0\n",
    "for i in range(100,1000):\n",
    "    a=str(i)\n",
    "    sum=0\n",
    "    for j in a:\n",
    "        b=int(j)\n",
    "        c=b**3\n",
    "        sum+=c\n",
    "    if sum==i:\n",
    "        print(sum)\n",
    "        "
   ]
  },
  {
   "cell_type": "code",
   "execution_count": 169,
   "metadata": {},
   "outputs": [
    {
     "data": {
      "text/plain": [
       "2187"
      ]
     },
     "execution_count": 169,
     "metadata": {},
     "output_type": "execute_result"
    }
   ],
   "source": [
    "sum"
   ]
  },
  {
   "cell_type": "code",
   "execution_count": 170,
   "metadata": {},
   "outputs": [
    {
     "data": {
      "text/plain": [
       "729"
      ]
     },
     "execution_count": 170,
     "metadata": {},
     "output_type": "execute_result"
    }
   ],
   "source": [
    "9**3"
   ]
  },
  {
   "cell_type": "code",
   "execution_count": 171,
   "metadata": {},
   "outputs": [
    {
     "data": {
      "text/plain": [
       "2187"
      ]
     },
     "execution_count": 171,
     "metadata": {},
     "output_type": "execute_result"
    }
   ],
   "source": [
    "729+729+729"
   ]
  },
  {
   "cell_type": "code",
   "execution_count": 177,
   "metadata": {},
   "outputs": [
    {
     "name": "stdout",
     "output_type": "stream",
     "text": [
      "Coca\n",
      "Cola\n",
      "Coca\n",
      "Coca\n",
      "Cola\n",
      "Coca\n",
      "Coca\n",
      "Cocacola\n"
     ]
    }
   ],
   "source": [
    "for i in range(1,16):\n",
    "    if i%3==0:\n",
    "        print('Coca')\n",
    "        if i%5==0:\n",
    "            print('Cocacola')\n",
    "    elif i%5==0:\n",
    "        print('Cola')\n",
    " "
   ]
  },
  {
   "cell_type": "code",
   "execution_count": null,
   "metadata": {},
   "outputs": [],
   "source": []
  }
 ],
 "metadata": {
  "kernelspec": {
   "display_name": "Python 3",
   "language": "python",
   "name": "python3"
  },
  "language_info": {
   "codemirror_mode": {
    "name": "ipython",
    "version": 3
   },
   "file_extension": ".py",
   "mimetype": "text/x-python",
   "name": "python",
   "nbconvert_exporter": "python",
   "pygments_lexer": "ipython3",
   "version": "3.8.3"
  }
 },
 "nbformat": 4,
 "nbformat_minor": 4
}
