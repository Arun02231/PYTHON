{
 "cells": [
  {
   "cell_type": "code",
   "execution_count": 1,
   "metadata": {},
   "outputs": [],
   "source": [
    "a=10\n"
   ]
  },
  {
   "cell_type": "code",
   "execution_count": 2,
   "metadata": {},
   "outputs": [],
   "source": [
    "b=20"
   ]
  },
  {
   "cell_type": "code",
   "execution_count": 3,
   "metadata": {},
   "outputs": [
    {
     "name": "stdout",
     "output_type": "stream",
     "text": [
      "my name is arun kumar\n"
     ]
    }
   ],
   "source": [
    "if a==10:\n",
    "    print('my name is arun kumar')"
   ]
  },
  {
   "cell_type": "code",
   "execution_count": 6,
   "metadata": {},
   "outputs": [],
   "source": [
    "a=10\n",
    "b=10"
   ]
  },
  {
   "cell_type": "code",
   "execution_count": 8,
   "metadata": {},
   "outputs": [
    {
     "name": "stdout",
     "output_type": "stream",
     "text": [
      "both are equal\n"
     ]
    }
   ],
   "source": [
    "if a>b:\n",
    "    print('a is greater')\n",
    "if a<b:\n",
    "    print('b is greater')\n",
    "else:\n",
    "    print('both are equal')"
   ]
  },
  {
   "cell_type": "code",
   "execution_count": 14,
   "metadata": {},
   "outputs": [
    {
     "name": "stdout",
     "output_type": "stream",
     "text": [
      "ARUN KUMAR\n"
     ]
    }
   ],
   "source": [
    "if 0:\n",
    "    print('arun kumar')\n",
    "else:\n",
    "    print(str.upper('arun kumar'))"
   ]
  },
  {
   "cell_type": "code",
   "execution_count": 17,
   "metadata": {},
   "outputs": [
    {
     "name": "stdout",
     "output_type": "stream",
     "text": [
      "arun\n",
      "kumar\n"
     ]
    }
   ],
   "source": [
    "if a==10:\n",
    "    print('arun')\n",
    "    print('kumar')"
   ]
  },
  {
   "cell_type": "markdown",
   "metadata": {},
   "source": [
    "# conditional statements"
   ]
  },
  {
   "cell_type": "raw",
   "metadata": {},
   "source": [
    "1)Conditional statements decide the flow of program depending upon the various conditions\n",
    "2)conditional statements consists of \n",
    "     if\n",
    "     elif\n",
    "     else\n",
    "3)conditional statements always should have a True and False condition statement\n",
    "4)indentation must be same\n",
    "5)you should maintain 4 spaces\n",
    "6)you can also one space but standard is 4 spaces\n",
    "\n",
    "have a below examples"
   ]
  },
  {
   "cell_type": "code",
   "execution_count": 22,
   "metadata": {},
   "outputs": [
    {
     "ename": "IndentationError",
     "evalue": "unexpected indent (<ipython-input-22-97eab2ae7f0d>, line 3)",
     "output_type": "error",
     "traceback": [
      "\u001b[1;36m  File \u001b[1;32m\"<ipython-input-22-97eab2ae7f0d>\"\u001b[1;36m, line \u001b[1;32m3\u001b[0m\n\u001b[1;33m    print('lll')\u001b[0m\n\u001b[1;37m    ^\u001b[0m\n\u001b[1;31mIndentationError\u001b[0m\u001b[1;31m:\u001b[0m unexpected indent\n"
     ]
    }
   ],
   "source": [
    "if a==10:\n",
    " print('true')\n",
    "    print('lll')"
   ]
  },
  {
   "cell_type": "raw",
   "metadata": {},
   "source": [
    "you always maintain a same indentation have a example of above\n"
   ]
  },
  {
   "cell_type": "raw",
   "metadata": {},
   "source": [
    "for non-zero values direct go for the true block"
   ]
  },
  {
   "cell_type": "raw",
   "metadata": {},
   "source": [
    "for zero and none values it will go to else block"
   ]
  },
  {
   "cell_type": "raw",
   "metadata": {},
   "source": [
    "if youn have a too much conditions to check use elif condition"
   ]
  }
 ],
 "metadata": {
  "kernelspec": {
   "display_name": "Python 3",
   "language": "python",
   "name": "python3"
  },
  "language_info": {
   "codemirror_mode": {
    "name": "ipython",
    "version": 3
   },
   "file_extension": ".py",
   "mimetype": "text/x-python",
   "name": "python",
   "nbconvert_exporter": "python",
   "pygments_lexer": "ipython3",
   "version": "3.8.3"
  }
 },
 "nbformat": 4,
 "nbformat_minor": 4
}
